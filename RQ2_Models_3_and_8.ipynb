{
 "cells": [
  {
   "cell_type": "markdown",
   "metadata": {},
   "source": [
    "# New attempts at predicting Price using data split by YearSold and models proposed by Marta"
   ]
  },
  {
   "cell_type": "markdown",
   "metadata": {},
   "source": [
    "## Imports"
   ]
  },
  {
   "cell_type": "code",
   "execution_count": 31,
   "metadata": {},
   "outputs": [],
   "source": [
    "import numpy as np\n",
    "import pandas as pd\n",
    "import seaborn as sns\n",
    "from scipy.stats import norm, invgamma\n",
    "import matplotlib.pyplot as plt\n",
    "from sklearn.model_selection import train_test_split"
   ]
  },
  {
   "cell_type": "markdown",
   "metadata": {},
   "source": [
    "## Load the dataset"
   ]
  },
  {
   "cell_type": "code",
   "execution_count": 32,
   "metadata": {},
   "outputs": [
    {
     "data": {
      "text/html": [
       "<div>\n",
       "<style scoped>\n",
       "    .dataframe tbody tr th:only-of-type {\n",
       "        vertical-align: middle;\n",
       "    }\n",
       "\n",
       "    .dataframe tbody tr th {\n",
       "        vertical-align: top;\n",
       "    }\n",
       "\n",
       "    .dataframe thead th {\n",
       "        text-align: right;\n",
       "    }\n",
       "</style>\n",
       "<table border=\"1\" class=\"dataframe\">\n",
       "  <thead>\n",
       "    <tr style=\"text-align: right;\">\n",
       "      <th></th>\n",
       "      <th>Suburb</th>\n",
       "      <th>Address</th>\n",
       "      <th>Rooms</th>\n",
       "      <th>Type</th>\n",
       "      <th>Price</th>\n",
       "      <th>SellerG</th>\n",
       "      <th>Date</th>\n",
       "      <th>Distance</th>\n",
       "      <th>Postcode</th>\n",
       "      <th>Bedroom2</th>\n",
       "      <th>...</th>\n",
       "      <th>RegionGroup_W_Metropolitan</th>\n",
       "      <th>RegionGroup_W_N_E_Victoria</th>\n",
       "      <th>Method_PI</th>\n",
       "      <th>Method_S</th>\n",
       "      <th>Method_SA</th>\n",
       "      <th>Method_SP</th>\n",
       "      <th>Method_VB</th>\n",
       "      <th>Type_h</th>\n",
       "      <th>Type_t</th>\n",
       "      <th>Type_u</th>\n",
       "    </tr>\n",
       "  </thead>\n",
       "  <tbody>\n",
       "    <tr>\n",
       "      <th>0</th>\n",
       "      <td>Abbotsford</td>\n",
       "      <td>85 Turner St</td>\n",
       "      <td>2</td>\n",
       "      <td>h</td>\n",
       "      <td>1480000.0</td>\n",
       "      <td>Biggin</td>\n",
       "      <td>2016-12-03</td>\n",
       "      <td>2.5</td>\n",
       "      <td>3067</td>\n",
       "      <td>2</td>\n",
       "      <td>...</td>\n",
       "      <td>False</td>\n",
       "      <td>False</td>\n",
       "      <td>False</td>\n",
       "      <td>True</td>\n",
       "      <td>False</td>\n",
       "      <td>False</td>\n",
       "      <td>False</td>\n",
       "      <td>True</td>\n",
       "      <td>False</td>\n",
       "      <td>False</td>\n",
       "    </tr>\n",
       "    <tr>\n",
       "      <th>1</th>\n",
       "      <td>Abbotsford</td>\n",
       "      <td>25 Bloomburg St</td>\n",
       "      <td>2</td>\n",
       "      <td>h</td>\n",
       "      <td>1035000.0</td>\n",
       "      <td>Biggin</td>\n",
       "      <td>2016-02-04</td>\n",
       "      <td>2.5</td>\n",
       "      <td>3067</td>\n",
       "      <td>2</td>\n",
       "      <td>...</td>\n",
       "      <td>False</td>\n",
       "      <td>False</td>\n",
       "      <td>False</td>\n",
       "      <td>True</td>\n",
       "      <td>False</td>\n",
       "      <td>False</td>\n",
       "      <td>False</td>\n",
       "      <td>True</td>\n",
       "      <td>False</td>\n",
       "      <td>False</td>\n",
       "    </tr>\n",
       "    <tr>\n",
       "      <th>2</th>\n",
       "      <td>Abbotsford</td>\n",
       "      <td>5 Charles St</td>\n",
       "      <td>3</td>\n",
       "      <td>h</td>\n",
       "      <td>1465000.0</td>\n",
       "      <td>Biggin</td>\n",
       "      <td>2017-03-04</td>\n",
       "      <td>2.5</td>\n",
       "      <td>3067</td>\n",
       "      <td>3</td>\n",
       "      <td>...</td>\n",
       "      <td>False</td>\n",
       "      <td>False</td>\n",
       "      <td>False</td>\n",
       "      <td>False</td>\n",
       "      <td>False</td>\n",
       "      <td>True</td>\n",
       "      <td>False</td>\n",
       "      <td>True</td>\n",
       "      <td>False</td>\n",
       "      <td>False</td>\n",
       "    </tr>\n",
       "    <tr>\n",
       "      <th>3</th>\n",
       "      <td>Abbotsford</td>\n",
       "      <td>40 Federation La</td>\n",
       "      <td>3</td>\n",
       "      <td>h</td>\n",
       "      <td>850000.0</td>\n",
       "      <td>Biggin</td>\n",
       "      <td>2017-03-04</td>\n",
       "      <td>2.5</td>\n",
       "      <td>3067</td>\n",
       "      <td>3</td>\n",
       "      <td>...</td>\n",
       "      <td>False</td>\n",
       "      <td>False</td>\n",
       "      <td>True</td>\n",
       "      <td>False</td>\n",
       "      <td>False</td>\n",
       "      <td>False</td>\n",
       "      <td>False</td>\n",
       "      <td>True</td>\n",
       "      <td>False</td>\n",
       "      <td>False</td>\n",
       "    </tr>\n",
       "    <tr>\n",
       "      <th>4</th>\n",
       "      <td>Abbotsford</td>\n",
       "      <td>55a Park St</td>\n",
       "      <td>4</td>\n",
       "      <td>h</td>\n",
       "      <td>1600000.0</td>\n",
       "      <td>Nelson</td>\n",
       "      <td>2016-06-04</td>\n",
       "      <td>2.5</td>\n",
       "      <td>3067</td>\n",
       "      <td>3</td>\n",
       "      <td>...</td>\n",
       "      <td>False</td>\n",
       "      <td>False</td>\n",
       "      <td>False</td>\n",
       "      <td>False</td>\n",
       "      <td>False</td>\n",
       "      <td>False</td>\n",
       "      <td>True</td>\n",
       "      <td>True</td>\n",
       "      <td>False</td>\n",
       "      <td>False</td>\n",
       "    </tr>\n",
       "  </tbody>\n",
       "</table>\n",
       "<p>5 rows × 45 columns</p>\n",
       "</div>"
      ],
      "text/plain": [
       "       Suburb           Address  Rooms Type      Price SellerG        Date  \\\n",
       "0  Abbotsford      85 Turner St      2    h  1480000.0  Biggin  2016-12-03   \n",
       "1  Abbotsford   25 Bloomburg St      2    h  1035000.0  Biggin  2016-02-04   \n",
       "2  Abbotsford      5 Charles St      3    h  1465000.0  Biggin  2017-03-04   \n",
       "3  Abbotsford  40 Federation La      3    h   850000.0  Biggin  2017-03-04   \n",
       "4  Abbotsford       55a Park St      4    h  1600000.0  Nelson  2016-06-04   \n",
       "\n",
       "   Distance  Postcode  Bedroom2  ...  RegionGroup_W_Metropolitan  \\\n",
       "0       2.5      3067         2  ...                       False   \n",
       "1       2.5      3067         2  ...                       False   \n",
       "2       2.5      3067         3  ...                       False   \n",
       "3       2.5      3067         3  ...                       False   \n",
       "4       2.5      3067         3  ...                       False   \n",
       "\n",
       "   RegionGroup_W_N_E_Victoria  Method_PI  Method_S  Method_SA  Method_SP  \\\n",
       "0                       False      False      True      False      False   \n",
       "1                       False      False      True      False      False   \n",
       "2                       False      False     False      False       True   \n",
       "3                       False       True     False      False      False   \n",
       "4                       False      False     False      False      False   \n",
       "\n",
       "   Method_VB Type_h  Type_t  Type_u  \n",
       "0      False   True   False   False  \n",
       "1      False   True   False   False  \n",
       "2      False   True   False   False  \n",
       "3      False   True   False   False  \n",
       "4       True   True   False   False  \n",
       "\n",
       "[5 rows x 45 columns]"
      ]
     },
     "execution_count": 32,
     "metadata": {},
     "output_type": "execute_result"
    }
   ],
   "source": [
    "data = pd.read_csv('After_feature_engineering.csv')\n",
    "data.head()"
   ]
  },
  {
   "cell_type": "markdown",
   "metadata": {},
   "source": [
    "### Dropping unnecessary columns"
   ]
  },
  {
   "cell_type": "code",
   "execution_count": 33,
   "metadata": {},
   "outputs": [
    {
     "data": {
      "text/html": [
       "<div>\n",
       "<style scoped>\n",
       "    .dataframe tbody tr th:only-of-type {\n",
       "        vertical-align: middle;\n",
       "    }\n",
       "\n",
       "    .dataframe tbody tr th {\n",
       "        vertical-align: top;\n",
       "    }\n",
       "\n",
       "    .dataframe thead th {\n",
       "        text-align: right;\n",
       "    }\n",
       "</style>\n",
       "<table border=\"1\" class=\"dataframe\">\n",
       "  <thead>\n",
       "    <tr style=\"text-align: right;\">\n",
       "      <th></th>\n",
       "      <th>Rooms</th>\n",
       "      <th>Price</th>\n",
       "      <th>Distance</th>\n",
       "      <th>Bathroom</th>\n",
       "      <th>Landsize</th>\n",
       "      <th>BuildingArea</th>\n",
       "      <th>Propertycount</th>\n",
       "      <th>Bedroom2_Group_0</th>\n",
       "      <th>Bedroom2_Group_1</th>\n",
       "      <th>Bedroom2_Group_2_3</th>\n",
       "      <th>...</th>\n",
       "      <th>RegionGroup_W_Metropolitan</th>\n",
       "      <th>RegionGroup_W_N_E_Victoria</th>\n",
       "      <th>Method_PI</th>\n",
       "      <th>Method_S</th>\n",
       "      <th>Method_SA</th>\n",
       "      <th>Method_SP</th>\n",
       "      <th>Method_VB</th>\n",
       "      <th>Type_h</th>\n",
       "      <th>Type_t</th>\n",
       "      <th>Type_u</th>\n",
       "    </tr>\n",
       "  </thead>\n",
       "  <tbody>\n",
       "    <tr>\n",
       "      <th>0</th>\n",
       "      <td>2</td>\n",
       "      <td>1480000.0</td>\n",
       "      <td>2.5</td>\n",
       "      <td>1</td>\n",
       "      <td>202.0</td>\n",
       "      <td>120.320408</td>\n",
       "      <td>4019</td>\n",
       "      <td>False</td>\n",
       "      <td>False</td>\n",
       "      <td>True</td>\n",
       "      <td>...</td>\n",
       "      <td>False</td>\n",
       "      <td>False</td>\n",
       "      <td>False</td>\n",
       "      <td>True</td>\n",
       "      <td>False</td>\n",
       "      <td>False</td>\n",
       "      <td>False</td>\n",
       "      <td>True</td>\n",
       "      <td>False</td>\n",
       "      <td>False</td>\n",
       "    </tr>\n",
       "    <tr>\n",
       "      <th>1</th>\n",
       "      <td>2</td>\n",
       "      <td>1035000.0</td>\n",
       "      <td>2.5</td>\n",
       "      <td>1</td>\n",
       "      <td>156.0</td>\n",
       "      <td>79.000000</td>\n",
       "      <td>4019</td>\n",
       "      <td>False</td>\n",
       "      <td>False</td>\n",
       "      <td>True</td>\n",
       "      <td>...</td>\n",
       "      <td>False</td>\n",
       "      <td>False</td>\n",
       "      <td>False</td>\n",
       "      <td>True</td>\n",
       "      <td>False</td>\n",
       "      <td>False</td>\n",
       "      <td>False</td>\n",
       "      <td>True</td>\n",
       "      <td>False</td>\n",
       "      <td>False</td>\n",
       "    </tr>\n",
       "    <tr>\n",
       "      <th>2</th>\n",
       "      <td>3</td>\n",
       "      <td>1465000.0</td>\n",
       "      <td>2.5</td>\n",
       "      <td>2</td>\n",
       "      <td>134.0</td>\n",
       "      <td>150.000000</td>\n",
       "      <td>4019</td>\n",
       "      <td>False</td>\n",
       "      <td>False</td>\n",
       "      <td>True</td>\n",
       "      <td>...</td>\n",
       "      <td>False</td>\n",
       "      <td>False</td>\n",
       "      <td>False</td>\n",
       "      <td>False</td>\n",
       "      <td>False</td>\n",
       "      <td>True</td>\n",
       "      <td>False</td>\n",
       "      <td>True</td>\n",
       "      <td>False</td>\n",
       "      <td>False</td>\n",
       "    </tr>\n",
       "    <tr>\n",
       "      <th>3</th>\n",
       "      <td>3</td>\n",
       "      <td>850000.0</td>\n",
       "      <td>2.5</td>\n",
       "      <td>2</td>\n",
       "      <td>94.0</td>\n",
       "      <td>97.551020</td>\n",
       "      <td>4019</td>\n",
       "      <td>False</td>\n",
       "      <td>False</td>\n",
       "      <td>True</td>\n",
       "      <td>...</td>\n",
       "      <td>False</td>\n",
       "      <td>False</td>\n",
       "      <td>True</td>\n",
       "      <td>False</td>\n",
       "      <td>False</td>\n",
       "      <td>False</td>\n",
       "      <td>False</td>\n",
       "      <td>True</td>\n",
       "      <td>False</td>\n",
       "      <td>False</td>\n",
       "    </tr>\n",
       "    <tr>\n",
       "      <th>4</th>\n",
       "      <td>4</td>\n",
       "      <td>1600000.0</td>\n",
       "      <td>2.5</td>\n",
       "      <td>1</td>\n",
       "      <td>120.0</td>\n",
       "      <td>142.000000</td>\n",
       "      <td>4019</td>\n",
       "      <td>False</td>\n",
       "      <td>False</td>\n",
       "      <td>True</td>\n",
       "      <td>...</td>\n",
       "      <td>False</td>\n",
       "      <td>False</td>\n",
       "      <td>False</td>\n",
       "      <td>False</td>\n",
       "      <td>False</td>\n",
       "      <td>False</td>\n",
       "      <td>True</td>\n",
       "      <td>True</td>\n",
       "      <td>False</td>\n",
       "      <td>False</td>\n",
       "    </tr>\n",
       "  </tbody>\n",
       "</table>\n",
       "<p>5 rows × 31 columns</p>\n",
       "</div>"
      ],
      "text/plain": [
       "   Rooms      Price  Distance  Bathroom  Landsize  BuildingArea  \\\n",
       "0      2  1480000.0       2.5         1     202.0    120.320408   \n",
       "1      2  1035000.0       2.5         1     156.0     79.000000   \n",
       "2      3  1465000.0       2.5         2     134.0    150.000000   \n",
       "3      3   850000.0       2.5         2      94.0     97.551020   \n",
       "4      4  1600000.0       2.5         1     120.0    142.000000   \n",
       "\n",
       "   Propertycount  Bedroom2_Group_0  Bedroom2_Group_1  Bedroom2_Group_2_3  ...  \\\n",
       "0           4019             False             False                True  ...   \n",
       "1           4019             False             False                True  ...   \n",
       "2           4019             False             False                True  ...   \n",
       "3           4019             False             False                True  ...   \n",
       "4           4019             False             False                True  ...   \n",
       "\n",
       "   RegionGroup_W_Metropolitan  RegionGroup_W_N_E_Victoria  Method_PI  \\\n",
       "0                       False                       False      False   \n",
       "1                       False                       False      False   \n",
       "2                       False                       False      False   \n",
       "3                       False                       False       True   \n",
       "4                       False                       False      False   \n",
       "\n",
       "   Method_S  Method_SA  Method_SP  Method_VB  Type_h  Type_t  Type_u  \n",
       "0      True      False      False      False    True   False   False  \n",
       "1      True      False      False      False    True   False   False  \n",
       "2     False      False       True      False    True   False   False  \n",
       "3     False      False      False      False    True   False   False  \n",
       "4     False      False      False       True    True   False   False  \n",
       "\n",
       "[5 rows x 31 columns]"
      ]
     },
     "execution_count": 33,
     "metadata": {},
     "output_type": "execute_result"
    }
   ],
   "source": [
    "columns_to_drop = ['Suburb', 'Address', 'SellerG', 'Date', 'Postcode', 'Lattitude', 'Longtitude', 'Type', 'Bedroom2', 'Car', 'Regionname', 'YearBuilt', 'Car_Category','BuildingArea_missing']\n",
    "data = data.drop(columns=columns_to_drop, errors='ignore')\n",
    "\n",
    "data.head()"
   ]
  },
  {
   "cell_type": "markdown",
   "metadata": {},
   "source": [
    "## Model 3 - With log(price)"
   ]
  },
  {
   "cell_type": "markdown",
   "metadata": {},
   "source": [
    "### Defining predictors and target variable"
   ]
  },
  {
   "cell_type": "code",
   "execution_count": 34,
   "metadata": {},
   "outputs": [],
   "source": [
    "#Interaction terms\n",
    "# Define interaction terms\n",
    "data['BuildingArea*RegionGroup_E_Metropolitan'] = data['BuildingArea']*data['RegionGroup_E_Metropolitan']  \n",
    "data['BuildingArea*RegionGroup_N_S_SE_Metropolitan'] = data['BuildingArea']*data['RegionGroup_N_S_SE_Metropolitan']  \n",
    "data['BuildingArea*RegionGroup_W_Metropolitan'] = data['BuildingArea']*data['RegionGroup_W_Metropolitan']  \n",
    "\n",
    "\n",
    "\n",
    "predictors = ['Rooms','Distance','Bathroom','Landsize',\n",
    "          'Bedroom2_Group_1','Bedroom2_Group_2_3', 'Bedroom2_Group_4_5',\n",
    "          'Bedroom2_Group_6_or_more', 'Car_1', 'Car_2', 'Car_3', 'Car_4',\n",
    "          'HouseAge', 'BuildingArea*RegionGroup_E_Metropolitan',\n",
    "          'BuildingArea*RegionGroup_N_S_SE_Metropolitan','BuildingArea*RegionGroup_W_Metropolitan', \n",
    "          'Method_PI', 'Method_SA', 'Method_SP', 'Method_VB', 'Type_t', 'Type_u']"
   ]
  },
  {
   "cell_type": "markdown",
   "metadata": {},
   "source": [
    "### Splitting dataset into train and test sets by YearSold"
   ]
  },
  {
   "cell_type": "code",
   "execution_count": 35,
   "metadata": {},
   "outputs": [
    {
     "name": "stdout",
     "output_type": "stream",
     "text": [
      "Training set years: [2016]\n",
      "Test set years: [2017]\n"
     ]
    }
   ],
   "source": [
    "# Filter the training and test data based on YearSold\n",
    "train_data = data[data['YearSold'] == 2016]\n",
    "test_data = data[data['YearSold'] == 2017]\n",
    "\n",
    "print(\"Training set years:\", train_data['YearSold'].unique())\n",
    "print(\"Test set years:\", test_data['YearSold'].unique())"
   ]
  },
  {
   "cell_type": "markdown",
   "metadata": {},
   "source": [
    "### Separate predictors (X) and target variable (y) for train and test sets"
   ]
  },
  {
   "cell_type": "code",
   "execution_count": 36,
   "metadata": {},
   "outputs": [],
   "source": [
    "X_train = train_data[predictors].values  \n",
    "y_train = np.log(train_data['Price'])\n",
    "\n",
    "X_test = test_data[predictors].values\n",
    "y_test = np.log(test_data['Price'])"
   ]
  },
  {
   "cell_type": "markdown",
   "metadata": {},
   "source": [
    "### Standardizing predictors"
   ]
  },
  {
   "cell_type": "code",
   "execution_count": 37,
   "metadata": {},
   "outputs": [],
   "source": [
    "#Standardizing predictors\n",
    "from sklearn.preprocessing import StandardScaler\n",
    "scaler= StandardScaler()\n",
    "X_train_scaled = scaler.fit_transform(X_train)\n",
    "X_test_scaled = scaler.transform(X_test)"
   ]
  },
  {
   "cell_type": "markdown",
   "metadata": {},
   "source": [
    "### Adding intercept column to vector of predictors"
   ]
  },
  {
   "cell_type": "code",
   "execution_count": 38,
   "metadata": {},
   "outputs": [
    {
     "name": "stdout",
     "output_type": "stream",
     "text": [
      "Shape of X_train (with intercept): (6225, 23)\n",
      "Shape of X_test (with intercept): (6923, 23)\n"
     ]
    }
   ],
   "source": [
    "#Adding intercept to column X\n",
    "X_train_scaled = np.c_[np.ones(X_train_scaled.shape[0]), X_train_scaled]\n",
    "X_test_scaled = np.c_[np.ones(X_test_scaled.shape[0]), X_test_scaled]\n",
    "\n",
    "print(\"Shape of X_train (with intercept):\", X_train_scaled.shape)\n",
    "print(\"Shape of X_test (with intercept):\", X_test_scaled.shape)"
   ]
  },
  {
   "cell_type": "markdown",
   "metadata": {},
   "source": [
    "### Fixing data type"
   ]
  },
  {
   "cell_type": "code",
   "execution_count": 39,
   "metadata": {},
   "outputs": [
    {
     "name": "stdout",
     "output_type": "stream",
     "text": [
      "y_test dtype: float64\n",
      "X_test dtype: float64\n",
      "y_train dtype: float64\n",
      "X_train dtype: float64\n"
     ]
    }
   ],
   "source": [
    "X_test = X_test.astype(float)\n",
    "X_train = X_train.astype(float)\n",
    "\n",
    "print(\"y_test dtype:\", y_test.dtype)\n",
    "print(\"X_test dtype:\", X_test.dtype)\n",
    "print(\"y_train dtype:\", y_train.dtype)\n",
    "print(\"X_train dtype:\", X_train.dtype)"
   ]
  },
  {
   "cell_type": "markdown",
   "metadata": {},
   "source": [
    "### Predictive Model"
   ]
  },
  {
   "cell_type": "markdown",
   "metadata": {},
   "source": [
    "Defining the log_likelihood function, priors and posterior distributions. "
   ]
  },
  {
   "cell_type": "code",
   "execution_count": 40,
   "metadata": {},
   "outputs": [],
   "source": [
    "#Predictive model\n",
    "#Likelihood Function\n",
    "def log_likelihood(y,X,beta,sigma2):\n",
    "    n=len(y)\n",
    "    mu=np.dot(X,beta) #Predicted mean\n",
    "    residuals=y-mu\n",
    "    return -0.5*n*np.log(2*np.pi*sigma2)-np.sum(residuals**2)/(2*sigma2)\n",
    "\n",
    "#Priors\n",
    "from scipy.stats import norm, invgamma\n",
    "\n",
    "#Normal Prior for coefficients\n",
    "def log_prior_beta(beta):\n",
    "    return np.sum(norm.logpdf(beta,loc=0,scale=10)) #Mean=0, Var=10^2\n",
    "\n",
    "#Inverse-Gamma prior for the variance\n",
    "def log_prior_sigma2(sigma2):\n",
    "    return invgamma.logpdf(sigma2,a=2,scale=1)\n",
    "\n",
    "#Posterior\n",
    "def log_posterior(y, X, beta, sigma2):\n",
    "    return log_likelihood(y, X, beta, sigma2)+log_prior_beta(beta)+log_prior_sigma2(sigma2)"
   ]
  },
  {
   "cell_type": "markdown",
   "metadata": {},
   "source": [
    "Next, we implement the MCMC Algorithm using Metropolis-Hastings to draw samples from the posterior distribution. \n",
    "\n",
    "Here I made two changes:\n",
    "1. Under #Initialize parameters - previous version:\n",
    "    >beta = np.zeros(n_params)\n",
    "    >sigma2 = 1\n",
    "2. Under #Propose a new beta and #Propose a new sigma - previous version:\n",
    "     >#Propose a new beta\n",
    "        >>beta_proposal = beta + np.random.normal(0,0.1,size=n_params)\n",
    "\n",
    "    >#Propose a new sigma2\n",
    "        >>sigma2_proposal = sigma2 + np.random.normal(0,0.1)\n",
    "        >>sigma2_proposal = abs(sigma2_proposal) #variance > 0"
   ]
  },
  {
   "cell_type": "code",
   "execution_count": 41,
   "metadata": {},
   "outputs": [],
   "source": [
    "#MCMC Algorithm\n",
    "def metropolis_hastings(y,X, iterations=1000):\n",
    "    n_params = X.shape[1]\n",
    "    beta_samples = []\n",
    "    sigma2_samples = []\n",
    "\n",
    "    #Initialize parameters\n",
    "    beta = np.random.normal(0, 0.1, size=n_params)\n",
    "    sigma2 = np.abs(np.random.normal(1, 0.5))\n",
    "\n",
    "    for sample in range(iterations):\n",
    "        #Propose a new beta\n",
    "        beta_proposal = beta + np.random.normal(0,0.5,size=n_params)\n",
    "\n",
    "        #Propose a new sigma2\n",
    "        sigma2_proposal = sigma2 + np.random.normal(0,0.5)\n",
    "        sigma2_proposal = abs(sigma2_proposal) #variance > 0\n",
    "\n",
    "        #Calculate current and proposed posterior\n",
    "        current_posterior = log_posterior(y, X, beta, sigma2)\n",
    "        proposed_posterior = log_posterior(y,X, beta_proposal,sigma2_proposal)\n",
    "\n",
    "        #Accept/reject step\n",
    "        accept_ratio = np.exp(proposed_posterior-current_posterior)\n",
    "        if np.random.rand() < accept_ratio:\n",
    "            beta = beta_proposal\n",
    "            sigma2 = sigma2_proposal\n",
    "\n",
    "        #Store samples\n",
    "        beta_samples.append(beta)\n",
    "        sigma2_samples.append(sigma2)\n",
    "\n",
    "    return np.array(beta_samples), np.array(sigma2_samples)"
   ]
  },
  {
   "cell_type": "markdown",
   "metadata": {},
   "source": [
    "Running the model"
   ]
  },
  {
   "cell_type": "code",
   "execution_count": 42,
   "metadata": {},
   "outputs": [
    {
     "name": "stderr",
     "output_type": "stream",
     "text": [
      "/var/folders/b0/3lm1b6yx0z52q8tv2nvq6qc40000gn/T/ipykernel_95115/3794734152.py:24: RuntimeWarning: overflow encountered in exp\n",
      "  accept_ratio = np.exp(proposed_posterior-current_posterior)\n"
     ]
    },
    {
     "name": "stdout",
     "output_type": "stream",
     "text": [
      "Posterior Mean of coefficients: [ 1.36434849e+01  3.81936835e-01 -2.19790803e-01 -2.95056863e-01\n",
      " -7.67824034e-02  3.20360542e-01  9.03763587e-01  9.42132378e-01\n",
      "  1.20756175e-01 -2.44529485e-01 -3.31427032e-01 -4.27943526e-01\n",
      " -3.99351667e-02  3.99731113e-01  1.50317666e-01  1.47352529e-01\n",
      " -1.33949383e-02  1.50259528e-01  3.30247519e-01 -1.09586185e-01\n",
      "  1.75107486e-01  3.76509171e-01 -1.74210425e-01]\n",
      "Posterior Mean of Variance: 8.4765578586574\n"
     ]
    }
   ],
   "source": [
    "#Running the model\n",
    "beta_samples, sigma2_samples = metropolis_hastings(y_train,X_train_scaled,iterations=5000)\n",
    "\n",
    "#Compute posterior means\n",
    "beta_mean = np.mean(beta_samples, axis=0)\n",
    "sigma2_mean = np.mean(sigma2_samples)\n",
    "\n",
    "print(\"Posterior Mean of coefficients:\",beta_mean)\n",
    "print(\"Posterior Mean of Variance:\",sigma2_mean)"
   ]
  },
  {
   "cell_type": "markdown",
   "metadata": {},
   "source": [
    "Simple Checks on the model"
   ]
  },
  {
   "cell_type": "code",
   "execution_count": 43,
   "metadata": {},
   "outputs": [
    {
     "name": "stdout",
     "output_type": "stream",
     "text": [
      "Number of NaNs in y_test: 0\n",
      "Number of NaNs in X_test: 0\n",
      "Number of NaNs in y_train: 0\n",
      "Number of NaNs in X_train: 0\n"
     ]
    }
   ],
   "source": [
    "#Checking for NaNs\n",
    "print(\"Number of NaNs in y_test:\", np.isnan(y_test).sum())\n",
    "print(\"Number of NaNs in X_test:\", np.isnan(X_test).sum())\n",
    "print(\"Number of NaNs in y_train:\", np.isnan(y_train).sum())\n",
    "print(\"Number of NaNs in X_train:\", np.isnan(X_train).sum())"
   ]
  },
  {
   "cell_type": "code",
   "execution_count": 44,
   "metadata": {},
   "outputs": [
    {
     "name": "stdout",
     "output_type": "stream",
     "text": [
      "X_test_scaled shape: (6923, 23)\n",
      "beta_mean shape: (23,)\n",
      "Shape of X_train: (6225, 23)\n"
     ]
    }
   ],
   "source": [
    "#Checking dimensions\n",
    "print(\"X_test_scaled shape:\", X_test_scaled.shape)\n",
    "print(\"beta_mean shape:\", beta_mean.shape)\n",
    "print(\"Shape of X_train:\", X_train_scaled.shape)"
   ]
  },
  {
   "cell_type": "markdown",
   "metadata": {},
   "source": [
    "### Predicting Price"
   ]
  },
  {
   "cell_type": "code",
   "execution_count": 45,
   "metadata": {},
   "outputs": [
    {
     "name": "stdout",
     "output_type": "stream",
     "text": [
      "Mean Absolute Error: 605377726715.5085\n",
      "Mean Squared Error: 2.5371355610743204e+27\n"
     ]
    }
   ],
   "source": [
    "#Predicting price using the mean of posterior samples\n",
    "y_pred_log = np.dot(X_test_scaled,beta_mean)\n",
    "y_pred_price = np.exp(y_pred_log)\n",
    "\n",
    "#Evaluate performance\n",
    "from sklearn.metrics import mean_absolute_error, mean_squared_error\n",
    "\n",
    "mae = mean_absolute_error(np.exp(y_test), y_pred_price)\n",
    "mse = mean_squared_error(np.exp(y_test),y_pred_price)\n",
    "\n",
    "print(f\"Mean Absolute Error: {mae}\")\n",
    "print(f\"Mean Squared Error: {mse}\")"
   ]
  },
  {
   "cell_type": "code",
   "execution_count": 46,
   "metadata": {},
   "outputs": [
    {
     "data": {
      "image/png": "[encoded data removed]",
      "text/plain": [
       "<Figure size 640x480 with 1 Axes>"
      ]
     },
     "metadata": {},
     "output_type": "display_data"
    }
   ],
   "source": [
    "#Scatter plot of Predicted vs. Actual Values\n",
    "plt.scatter(np.exp(y_test),y_pred_price,alpha=0.7)\n",
    "plt.plot([min(np.exp(y_test)),max(np.exp(y_test))],[min(np.exp(y_test)),max(np.exp(y_test))],color='red',linestyle='--',label='Perfect Prediction')\n",
    "plt.title('Predicted vs Actual Prices')\n",
    "plt.xlabel('Actual Price')\n",
    "plt.ylabel('Predicted Price')\n",
    "plt.legend()\n",
    "plt.grid()\n",
    "plt.show()"
   ]
  },
  {
   "cell_type": "markdown",
   "metadata": {},
   "source": [
    "## Model 8"
   ]
  },
  {
   "cell_type": "markdown",
   "metadata": {},
   "source": [
    "### Using log(Price)"
   ]
  },
  {
   "cell_type": "markdown",
   "metadata": {},
   "source": [
    "### Defining predictors and target variable"
   ]
  },
  {
   "cell_type": "code",
   "execution_count": 47,
   "metadata": {},
   "outputs": [],
   "source": [
    "#Interaction terms\n",
    "# Define interaction terms\n",
    "data['BuildingArea*RegionGroup_E_Metropolitan'] = data['BuildingArea']*data['RegionGroup_E_Metropolitan']  \n",
    "data['BuildingArea*RegionGroup_N_S_SE_Metropolitan'] = data['BuildingArea']*data['RegionGroup_N_S_SE_Metropolitan']  \n",
    "data['BuildingArea*RegionGroup_W_Metropolitan'] = data['BuildingArea']*data['RegionGroup_W_Metropolitan']\n",
    "data['RegionGroup_W_Metropolitan*Method_PI']= data['RegionGroup_W_Metropolitan']*data['Method_PI']\n",
    "data['RegionGroup_W_Metropolitan*Method_SA']= data['RegionGroup_W_Metropolitan']*data['Method_SA']\n",
    "data['RegionGroup_W_Metropolitan*Method_SP']= data['RegionGroup_W_Metropolitan']*data['Method_SP']\n",
    "data['RegionGroup_W_Metropolitan*Method_VB']= data['RegionGroup_W_Metropolitan']*data['Method_VB']\n",
    "data['RegionGroup_N_S_SE_Metropolitan*Method_PI']= data['RegionGroup_N_S_SE_Metropolitan']*data['Method_PI']\n",
    "data['RegionGroup_N_S_SE_Metropolitan*Method_SA']= data['RegionGroup_N_S_SE_Metropolitan']*data['Method_SA']\n",
    "data['RegionGroup_N_S_SE_Metropolitan*Method_SP']= data['RegionGroup_N_S_SE_Metropolitan']*data['Method_SP']\n",
    "data['RegionGroup_N_S_SE_Metropolitan*Method_VB']= data['RegionGroup_N_S_SE_Metropolitan']*data['Method_VB']\n",
    "data['RegionGroup_E_Metropolitan*Method_PI']= data['RegionGroup_E_Metropolitan']*data['Method_PI']\n",
    "data['RegionGroup_E_Metropolitan*Method_SA']= data['RegionGroup_E_Metropolitan']*data['Method_SA']\n",
    "data['RegionGroup_E_Metropolitan*Method_SP']= data['RegionGroup_E_Metropolitan']*data['Method_SP']\n",
    "data['RegionGroup_E_Metropolitan*Method_VB']= data['RegionGroup_E_Metropolitan']*data['Method_VB']\n",
    "\n",
    "\n",
    "predictors_m8 = ['Rooms','Distance','Bathroom','Landsize','Bedroom2_Group_1','Bedroom2_Group_2_3', 'Bedroom2_Group_4_5',\n",
    "              'Bedroom2_Group_6_or_more', 'Car_1', 'Car_2', 'Car_3', 'Car_4','HouseAge', 'BuildingArea*RegionGroup_E_Metropolitan',\n",
    "          'BuildingArea*RegionGroup_N_S_SE_Metropolitan','BuildingArea*RegionGroup_W_Metropolitan','Method_PI', 'Method_SA', 'Method_SP', \n",
    "          'Method_VB', 'Type_t', 'Type_u','RegionGroup_W_Metropolitan*Method_PI','RegionGroup_W_Metropolitan*Method_SA',\n",
    "          'RegionGroup_W_Metropolitan*Method_SP','RegionGroup_W_Metropolitan*Method_VB','RegionGroup_N_S_SE_Metropolitan*Method_PI',\n",
    "          'RegionGroup_N_S_SE_Metropolitan*Method_SA','RegionGroup_N_S_SE_Metropolitan*Method_SP','RegionGroup_N_S_SE_Metropolitan*Method_VB',\n",
    "          'RegionGroup_E_Metropolitan*Method_PI','RegionGroup_E_Metropolitan*Method_SA','RegionGroup_E_Metropolitan*Method_SP','RegionGroup_E_Metropolitan*Method_VB']"
   ]
  },
  {
   "cell_type": "markdown",
   "metadata": {},
   "source": [
    "### Separate predictors (X) and target variable (y) for train and test sets"
   ]
  },
  {
   "cell_type": "code",
   "execution_count": 48,
   "metadata": {},
   "outputs": [
    {
     "name": "stdout",
     "output_type": "stream",
     "text": [
      "Training set years: [2016]\n",
      "Test set years: [2017]\n"
     ]
    }
   ],
   "source": [
    "# Filter the training and test data based on YearSold\n",
    "train_data = data[data['YearSold'] == 2016]\n",
    "test_data = data[data['YearSold'] == 2017]\n",
    "\n",
    "print(\"Training set years:\", train_data['YearSold'].unique())\n",
    "print(\"Test set years:\", test_data['YearSold'].unique())"
   ]
  },
  {
   "cell_type": "code",
   "execution_count": 49,
   "metadata": {},
   "outputs": [],
   "source": [
    "X_train = train_data[predictors_m8].values  \n",
    "y_train = np.log(train_data['Price'])\n",
    "\n",
    "X_test = test_data[predictors_m8].values\n",
    "y_test = np.log(test_data['Price'])"
   ]
  },
  {
   "cell_type": "markdown",
   "metadata": {},
   "source": [
    "### Standardizing predictors"
   ]
  },
  {
   "cell_type": "code",
   "execution_count": 50,
   "metadata": {},
   "outputs": [],
   "source": [
    "#Standardizing predictors\n",
    "from sklearn.preprocessing import StandardScaler\n",
    "scaler= StandardScaler()\n",
    "X_train_scaled = scaler.fit_transform(X_train)\n",
    "X_test_scaled = scaler.transform(X_test)"
   ]
  },
  {
   "cell_type": "markdown",
   "metadata": {},
   "source": [
    "### Adding intercept column to vector of predictors"
   ]
  },
  {
   "cell_type": "code",
   "execution_count": 51,
   "metadata": {},
   "outputs": [
    {
     "name": "stdout",
     "output_type": "stream",
     "text": [
      "Shape of X_train (with intercept): (6225, 35)\n",
      "Shape of X_test (with intercept): (6923, 35)\n"
     ]
    }
   ],
   "source": [
    "#Adding intercept to column X\n",
    "X_train_scaled = np.c_[np.ones(X_train_scaled.shape[0]), X_train_scaled]\n",
    "X_test_scaled = np.c_[np.ones(X_test_scaled.shape[0]), X_test_scaled]\n",
    "\n",
    "print(\"Shape of X_train (with intercept):\", X_train_scaled.shape)\n",
    "print(\"Shape of X_test (with intercept):\", X_test_scaled.shape)"
   ]
  },
  {
   "cell_type": "markdown",
   "metadata": {},
   "source": [
    "### Fixing Data type"
   ]
  },
  {
   "cell_type": "code",
   "execution_count": 52,
   "metadata": {},
   "outputs": [
    {
     "name": "stdout",
     "output_type": "stream",
     "text": [
      "y_test dtype: float64\n",
      "X_test dtype: float64\n",
      "y_train dtype: float64\n",
      "X_train dtype: float64\n"
     ]
    }
   ],
   "source": [
    "X_test = X_test.astype(float)\n",
    "X_train = X_train.astype(float)\n",
    "\n",
    "print(\"y_test dtype:\", y_test.dtype)\n",
    "print(\"X_test dtype:\", X_test.dtype)\n",
    "print(\"y_train dtype:\", y_train.dtype)\n",
    "print(\"X_train dtype:\", X_train.dtype)"
   ]
  },
  {
   "cell_type": "markdown",
   "metadata": {},
   "source": [
    "## Predictive Model V.01"
   ]
  },
  {
   "cell_type": "markdown",
   "metadata": {},
   "source": [
    "Likelihood Function, Priors and Posterior Distribution"
   ]
  },
  {
   "cell_type": "code",
   "execution_count": 53,
   "metadata": {},
   "outputs": [],
   "source": [
    "#Likelihood Function\n",
    "def log_likelihood(y,X,beta,sigma2):\n",
    "    n=len(y)\n",
    "    mu=np.dot(X,beta) #Predicted mean\n",
    "    residuals=y-mu\n",
    "    return -0.5*n*np.log(2*np.pi*sigma2)-np.sum(residuals**2)/(2*sigma2)\n",
    "\n",
    "#Priors\n",
    "from scipy.stats import norm, invgamma\n",
    "\n",
    "#Normal Prior for coefficients\n",
    "def log_prior_beta(beta):\n",
    "    return np.sum(norm.logpdf(beta,loc=0,scale=10)) #Mean=0, Var=10^2\n",
    "\n",
    "#Inverse-Gamma prior for the variance\n",
    "def log_prior_sigma2(sigma2):\n",
    "    return invgamma.logpdf(sigma2,a=2,scale=1)\n",
    "\n",
    "#Posterior\n",
    "def log_posterior(y, X, beta, sigma2):\n",
    "    return log_likelihood(y, X, beta, sigma2)+log_prior_beta(beta)+log_prior_sigma2(sigma2)"
   ]
  },
  {
   "cell_type": "markdown",
   "metadata": {},
   "source": [
    "MCMC Algorithm"
   ]
  },
  {
   "cell_type": "code",
   "execution_count": 54,
   "metadata": {},
   "outputs": [],
   "source": [
    "def metropolis_hastings(y,X, iterations=1000):\n",
    "    n_params = X.shape[1]\n",
    "    beta_samples = []\n",
    "    sigma2_samples = []\n",
    "\n",
    "    #Initialize parameters\n",
    "    beta = np.zeros(n_params)\n",
    "    sigma2 = 1\n",
    "\n",
    "    for sample in range(iterations):\n",
    "        #Propose a new beta\n",
    "        beta_proposal = beta + np.random.normal(0,0.1,size=n_params)\n",
    "\n",
    "        #Propose a new sigma2\n",
    "        sigma2_proposal = sigma2 + np.random.normal(0,0.1)\n",
    "        sigma2_proposal = abs(sigma2_proposal) #variance > 0\n",
    "\n",
    "        #Calculate current and proposed posterior\n",
    "        current_posterior = log_posterior(y, X, beta, sigma2)\n",
    "        proposed_posterior = log_posterior(y,X, beta_proposal,sigma2_proposal)\n",
    "\n",
    "        #Accept/reject step\n",
    "        accept_ratio = np.exp(proposed_posterior-current_posterior)\n",
    "        if np.random.rand() < accept_ratio:\n",
    "            beta = beta_proposal\n",
    "            sigma2 = sigma2_proposal\n",
    "\n",
    "        #Store samples\n",
    "        beta_samples.append(beta)\n",
    "        sigma2_samples.append(sigma2)\n",
    "\n",
    "    return np.array(beta_samples), np.array(sigma2_samples)"
   ]
  },
  {
   "cell_type": "markdown",
   "metadata": {},
   "source": [
    "Running the model on training data"
   ]
  },
  {
   "cell_type": "code",
   "execution_count": 55,
   "metadata": {},
   "outputs": [
    {
     "name": "stderr",
     "output_type": "stream",
     "text": [
      "/var/folders/b0/3lm1b6yx0z52q8tv2nvq6qc40000gn/T/ipykernel_95115/3715273636.py:23: RuntimeWarning: overflow encountered in exp\n",
      "  accept_ratio = np.exp(proposed_posterior-current_posterior)\n"
     ]
    },
    {
     "name": "stdout",
     "output_type": "stream",
     "text": [
      "Posterior Mean of coefficients: [ 1.30107074e+01 -1.91297820e-01  2.97669032e-02  1.33568701e-01\n",
      " -3.64024070e-02 -5.18674784e-03  4.32046058e-02  1.83115674e-01\n",
      "  1.73642631e-01  3.85095006e-01  4.19446247e-01  1.55007774e-01\n",
      " -3.87168269e-02  1.86399282e-01  2.08334179e-01  2.86910252e-01\n",
      "  1.27430580e-01  1.27899559e+00  1.09129202e-02  7.00575454e-01\n",
      "  1.96936416e+00 -8.85758430e-02 -2.21248437e-01 -5.43048070e-01\n",
      "  3.09992746e-03 -5.28288813e-01 -8.91703944e-01 -1.16850502e+00\n",
      "  3.49232409e-02 -5.18549864e-01 -1.72788790e+00 -4.65328640e-01\n",
      " -2.57954834e+00 -3.41046239e-01 -6.69325297e-01]\n",
      "Posterior Mean of Variance: 2.4033775515908844\n"
     ]
    }
   ],
   "source": [
    "#Run MCMC\n",
    "beta_samples, sigma2_samples = metropolis_hastings(y_train,X_train_scaled,iterations=5000)\n",
    "\n",
    "#Compute posterior means\n",
    "beta_mean = np.mean(beta_samples, axis=0)\n",
    "sigma2_mean = np.mean(sigma2_samples)\n",
    "\n",
    "print(\"Posterior Mean of coefficients:\",beta_mean)\n",
    "print(\"Posterior Mean of Variance:\",sigma2_mean)"
   ]
  },
  {
   "cell_type": "markdown",
   "metadata": {},
   "source": [
    "Simple checks on the model"
   ]
  },
  {
   "cell_type": "code",
   "execution_count": 56,
   "metadata": {},
   "outputs": [
    {
     "name": "stdout",
     "output_type": "stream",
     "text": [
      "Number of NaNs in y_test: 0\n",
      "Number of NaNs in X_test: 0\n",
      "Number of NaNs in y_train: 0\n",
      "Number of NaNs in X_train: 0\n"
     ]
    }
   ],
   "source": [
    "#Checking for NaNs\n",
    "print(\"Number of NaNs in y_test:\", np.isnan(y_test).sum())\n",
    "print(\"Number of NaNs in X_test:\", np.isnan(X_test).sum())\n",
    "print(\"Number of NaNs in y_train:\", np.isnan(y_train).sum())\n",
    "print(\"Number of NaNs in X_train:\", np.isnan(X_train).sum())"
   ]
  },
  {
   "cell_type": "code",
   "execution_count": 57,
   "metadata": {},
   "outputs": [
    {
     "name": "stdout",
     "output_type": "stream",
     "text": [
      "X_test_scaled shape: (6923, 35)\n",
      "beta_mean shape: (35,)\n",
      "Shape of X_train: (6225, 35)\n"
     ]
    }
   ],
   "source": [
    "#Checking dimensions\n",
    "print(\"X_test_scaled shape:\", X_test_scaled.shape)\n",
    "print(\"beta_mean shape:\", beta_mean.shape)\n",
    "print(\"Shape of X_train:\", X_train_scaled.shape)"
   ]
  },
  {
   "cell_type": "markdown",
   "metadata": {},
   "source": [
    "Making predictions for the log(Price)"
   ]
  },
  {
   "cell_type": "code",
   "execution_count": 58,
   "metadata": {},
   "outputs": [
    {
     "name": "stdout",
     "output_type": "stream",
     "text": [
      "Mean Absolute Error: 1184622887181610.5\n",
      "Mean Squared Error: 9.715263163023913e+33\n"
     ]
    }
   ],
   "source": [
    "#Predicting price using the mean of posterior samples\n",
    "y_pred_log = np.dot(X_test_scaled,beta_mean)\n",
    "y_pred_price = np.exp(y_pred_log)\n",
    "\n",
    "#Evaluate performance\n",
    "from sklearn.metrics import mean_absolute_error, mean_squared_error\n",
    "\n",
    "mae = mean_absolute_error(np.exp(y_test), y_pred_price)\n",
    "mse = mean_squared_error(np.exp(y_test),y_pred_price)\n",
    "\n",
    "print(f\"Mean Absolute Error: {mae}\")\n",
    "print(f\"Mean Squared Error: {mse}\")"
   ]
  },
  {
   "cell_type": "markdown",
   "metadata": {},
   "source": [
    "Looks like the model is worse"
   ]
  },
  {
   "cell_type": "code",
   "execution_count": 59,
   "metadata": {},
   "outputs": [
    {
     "data": {
      "image/png": "[encoded data removed]",
      "text/plain": [
       "<Figure size 640x480 with 1 Axes>"
      ]
     },
     "metadata": {},
     "output_type": "display_data"
    }
   ],
   "source": [
    "#Scatter plot of Predicted vs. Actual Values\n",
    "plt.scatter(np.exp(y_test),y_pred_price,alpha=0.7)\n",
    "plt.plot([min(np.exp(y_test)),max(np.exp(y_test))],[min(np.exp(y_test)),max(np.exp(y_test))],color='red',linestyle='--',label='Perfect Prediction')\n",
    "plt.title('Predicted vs Actual Prices')\n",
    "plt.xlabel('Actual Price')\n",
    "plt.ylabel('Predicted Price')\n",
    "plt.legend()\n",
    "plt.grid()\n",
    "plt.show()"
   ]
  },
  {
   "cell_type": "markdown",
   "metadata": {},
   "source": [
    "Axis on different scales is never a good sign"
   ]
  }
 ],
 "metadata": {
  "kernelspec": {
   "display_name": "base",
   "language": "python",
   "name": "python3"
  },
  "language_info": {
   "codemirror_mode": {
    "name": "ipython",
    "version": 3
   },
   "file_extension": ".py",
   "mimetype": "text/x-python",
   "name": "python",
   "nbconvert_exporter": "python",
   "pygments_lexer": "ipython3",
   "version": "3.12.2"
  }
 },
 "nbformat": 4,
 "nbformat_minor": 2
}
