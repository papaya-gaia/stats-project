{
 "cells": [
  {
   "cell_type": "markdown",
   "metadata": {},
   "source": [
    "Adding columns"
   ]
  },
  {
   "cell_type": "code",
   "execution_count": 55,
   "metadata": {},
   "outputs": [],
   "source": [
    "import pandas as pd"
   ]
  },
  {
   "cell_type": "code",
   "execution_count": 56,
   "metadata": {},
   "outputs": [],
   "source": [
    "file_path = 'housing.csv'\n",
    "\n",
    "data = pd.read_csv(file_path)"
   ]
  },
  {
   "cell_type": "code",
   "execution_count": 57,
   "metadata": {},
   "outputs": [
    {
     "data": {
      "text/html": [
       "<div>\n",
       "<style scoped>\n",
       "    .dataframe tbody tr th:only-of-type {\n",
       "        vertical-align: middle;\n",
       "    }\n",
       "\n",
       "    .dataframe tbody tr th {\n",
       "        vertical-align: top;\n",
       "    }\n",
       "\n",
       "    .dataframe thead th {\n",
       "        text-align: right;\n",
       "    }\n",
       "</style>\n",
       "<table border=\"1\" class=\"dataframe\">\n",
       "  <thead>\n",
       "    <tr style=\"text-align: right;\">\n",
       "      <th></th>\n",
       "      <th>Price</th>\n",
       "      <th>Landsize</th>\n",
       "      <th>Land_price_per_m2</th>\n",
       "    </tr>\n",
       "  </thead>\n",
       "  <tbody>\n",
       "    <tr>\n",
       "      <th>0</th>\n",
       "      <td>1480000.0</td>\n",
       "      <td>202.0</td>\n",
       "      <td>7326.732673</td>\n",
       "    </tr>\n",
       "    <tr>\n",
       "      <th>1</th>\n",
       "      <td>1035000.0</td>\n",
       "      <td>156.0</td>\n",
       "      <td>6634.615385</td>\n",
       "    </tr>\n",
       "    <tr>\n",
       "      <th>2</th>\n",
       "      <td>1465000.0</td>\n",
       "      <td>134.0</td>\n",
       "      <td>10932.835821</td>\n",
       "    </tr>\n",
       "    <tr>\n",
       "      <th>3</th>\n",
       "      <td>850000.0</td>\n",
       "      <td>94.0</td>\n",
       "      <td>9042.553191</td>\n",
       "    </tr>\n",
       "    <tr>\n",
       "      <th>4</th>\n",
       "      <td>1600000.0</td>\n",
       "      <td>120.0</td>\n",
       "      <td>13333.333333</td>\n",
       "    </tr>\n",
       "  </tbody>\n",
       "</table>\n",
       "</div>"
      ],
      "text/plain": [
       "       Price  Landsize  Land_price_per_m2\n",
       "0  1480000.0     202.0        7326.732673\n",
       "1  1035000.0     156.0        6634.615385\n",
       "2  1465000.0     134.0       10932.835821\n",
       "3   850000.0      94.0        9042.553191\n",
       "4  1600000.0     120.0       13333.333333"
      ]
     },
     "execution_count": 57,
     "metadata": {},
     "output_type": "execute_result"
    }
   ],
   "source": [
    "# Add a new column for price per square meter, avoiding division by zero or null landsize values\n",
    "data['Land_price_per_m2'] = data.apply(\n",
    "    lambda row: row['Price'] / row['Landsize'] if pd.notnull(row['Price']) and pd.notnull(row['Landsize']) and row['Landsize'] > 0 else None,\n",
    "    axis=1\n",
    ")\n",
    "\n",
    "# Display the updated dataset's first few rows to confirm the addition\n",
    "data[['Price', 'Landsize', 'Land_price_per_m2']].head()"
   ]
  },
  {
   "cell_type": "code",
   "execution_count": 58,
   "metadata": {},
   "outputs": [
    {
     "data": {
      "text/html": [
       "<div>\n",
       "<style scoped>\n",
       "    .dataframe tbody tr th:only-of-type {\n",
       "        vertical-align: middle;\n",
       "    }\n",
       "\n",
       "    .dataframe tbody tr th {\n",
       "        vertical-align: top;\n",
       "    }\n",
       "\n",
       "    .dataframe thead th {\n",
       "        text-align: right;\n",
       "    }\n",
       "</style>\n",
       "<table border=\"1\" class=\"dataframe\">\n",
       "  <thead>\n",
       "    <tr style=\"text-align: right;\">\n",
       "      <th></th>\n",
       "      <th>Price</th>\n",
       "      <th>BuildingArea</th>\n",
       "      <th>Building_price_per_m2</th>\n",
       "    </tr>\n",
       "  </thead>\n",
       "  <tbody>\n",
       "    <tr>\n",
       "      <th>0</th>\n",
       "      <td>1480000.0</td>\n",
       "      <td>NaN</td>\n",
       "      <td>NaN</td>\n",
       "    </tr>\n",
       "    <tr>\n",
       "      <th>1</th>\n",
       "      <td>1035000.0</td>\n",
       "      <td>79.0</td>\n",
       "      <td>13101.265823</td>\n",
       "    </tr>\n",
       "    <tr>\n",
       "      <th>2</th>\n",
       "      <td>1465000.0</td>\n",
       "      <td>150.0</td>\n",
       "      <td>9766.666667</td>\n",
       "    </tr>\n",
       "    <tr>\n",
       "      <th>3</th>\n",
       "      <td>850000.0</td>\n",
       "      <td>NaN</td>\n",
       "      <td>NaN</td>\n",
       "    </tr>\n",
       "    <tr>\n",
       "      <th>4</th>\n",
       "      <td>1600000.0</td>\n",
       "      <td>142.0</td>\n",
       "      <td>11267.605634</td>\n",
       "    </tr>\n",
       "  </tbody>\n",
       "</table>\n",
       "</div>"
      ],
      "text/plain": [
       "       Price  BuildingArea  Building_price_per_m2\n",
       "0  1480000.0           NaN                    NaN\n",
       "1  1035000.0          79.0           13101.265823\n",
       "2  1465000.0         150.0            9766.666667\n",
       "3   850000.0           NaN                    NaN\n",
       "4  1600000.0         142.0           11267.605634"
      ]
     },
     "execution_count": 58,
     "metadata": {},
     "output_type": "execute_result"
    }
   ],
   "source": [
    "# Add a new column for price per square meter, avoiding division by zero or null landsize values\n",
    "data['Building_price_per_m2'] = data.apply(\n",
    "    lambda row: row['Price'] / row['BuildingArea'] if pd.notnull(row['Price']) and pd.notnull(row['BuildingArea']) and row['BuildingArea'] > 0 else None,\n",
    "    axis=1\n",
    ")\n",
    "\n",
    "# Display the updated dataset's first few rows to confirm the addition\n",
    "data[['Price', 'BuildingArea', 'Building_price_per_m2']].head()"
   ]
  },
  {
   "cell_type": "code",
   "execution_count": 70,
   "metadata": {},
   "outputs": [
    {
     "data": {
      "text/html": [
       "<div>\n",
       "<style scoped>\n",
       "    .dataframe tbody tr th:only-of-type {\n",
       "        vertical-align: middle;\n",
       "    }\n",
       "\n",
       "    .dataframe tbody tr th {\n",
       "        vertical-align: top;\n",
       "    }\n",
       "\n",
       "    .dataframe thead th {\n",
       "        text-align: right;\n",
       "    }\n",
       "</style>\n",
       "<table border=\"1\" class=\"dataframe\">\n",
       "  <thead>\n",
       "    <tr style=\"text-align: right;\">\n",
       "      <th></th>\n",
       "      <th>Price</th>\n",
       "      <th>BuildingArea</th>\n",
       "      <th>Landsize</th>\n",
       "      <th>Building_and_land_price_per_m2</th>\n",
       "    </tr>\n",
       "  </thead>\n",
       "  <tbody>\n",
       "    <tr>\n",
       "      <th>0</th>\n",
       "      <td>1480000.0</td>\n",
       "      <td>NaN</td>\n",
       "      <td>202.0</td>\n",
       "      <td>NaN</td>\n",
       "    </tr>\n",
       "    <tr>\n",
       "      <th>1</th>\n",
       "      <td>1035000.0</td>\n",
       "      <td>79.0</td>\n",
       "      <td>156.0</td>\n",
       "      <td>4404.255319</td>\n",
       "    </tr>\n",
       "    <tr>\n",
       "      <th>2</th>\n",
       "      <td>1465000.0</td>\n",
       "      <td>150.0</td>\n",
       "      <td>134.0</td>\n",
       "      <td>5158.450704</td>\n",
       "    </tr>\n",
       "    <tr>\n",
       "      <th>3</th>\n",
       "      <td>850000.0</td>\n",
       "      <td>NaN</td>\n",
       "      <td>94.0</td>\n",
       "      <td>NaN</td>\n",
       "    </tr>\n",
       "    <tr>\n",
       "      <th>4</th>\n",
       "      <td>1600000.0</td>\n",
       "      <td>142.0</td>\n",
       "      <td>120.0</td>\n",
       "      <td>6106.870229</td>\n",
       "    </tr>\n",
       "  </tbody>\n",
       "</table>\n",
       "</div>"
      ],
      "text/plain": [
       "       Price  BuildingArea  Landsize  Building_and_land_price_per_m2\n",
       "0  1480000.0           NaN     202.0                             NaN\n",
       "1  1035000.0          79.0     156.0                     4404.255319\n",
       "2  1465000.0         150.0     134.0                     5158.450704\n",
       "3   850000.0           NaN      94.0                             NaN\n",
       "4  1600000.0         142.0     120.0                     6106.870229"
      ]
     },
     "execution_count": 70,
     "metadata": {},
     "output_type": "execute_result"
    }
   ],
   "source": [
    "# Add a new column for price per square meter, avoiding division by zero or null landsize values\n",
    "data['Building_and_land_price_per_m2'] = data.apply(\n",
    "    lambda row: row['Price'] / (row['BuildingArea'] + row['Landsize']) if pd.notnull(row['Price']) and pd.notnull(row['Landsize']) and row['Landsize'] > 0 and pd.notnull(row['BuildingArea']) and row['BuildingArea'] > 0 else None,\n",
    "    axis=1\n",
    ")\n",
    "\n",
    "# Display the updated dataset's first few rows to confirm the addition\n",
    "data[['Price', 'BuildingArea', 'Landsize', 'Building_and_land_price_per_m2']].head()"
   ]
  },
  {
   "cell_type": "markdown",
   "metadata": {},
   "source": [
    "Check correlation of building price per mq2 and land price per mq2"
   ]
  },
  {
   "cell_type": "code",
   "execution_count": 77,
   "metadata": {},
   "outputs": [
    {
     "name": "stdout",
     "output_type": "stream",
     "text": [
      "                       Building_price_per_m2  Land_price_per_m2\n",
      "Building_price_per_m2               1.000000           0.019125\n",
      "Land_price_per_m2                   0.019125           1.000000\n",
      "\n",
      "\n",
      "                                 Building_price_per_m2  Land_price_per_m2  \\\n",
      "Building_price_per_m2                        1.000000           0.019125   \n",
      "Land_price_per_m2                            0.019125           1.000000   \n",
      "Building_and_land_price_per_m2               0.129224           0.420268   \n",
      "\n",
      "                                Building_and_land_price_per_m2  \n",
      "Building_price_per_m2                                 0.129224  \n",
      "Land_price_per_m2                                     0.420268  \n",
      "Building_and_land_price_per_m2                        1.000000  \n"
     ]
    }
   ],
   "source": [
    "# Filter the data to include only rows where Building_price_per_m2 is not NaN\n",
    "filtered_data = data.dropna(subset=['Building_price_per_m2'])\n",
    "\n",
    "# Calculate the correlation between Building_price_per_m2 and Land_price_per_m2\n",
    "correlation = filtered_data[['Building_price_per_m2', 'Land_price_per_m2']].corr()\n",
    "\n",
    "# Display the correlation matrix\n",
    "print(correlation)\n",
    "\n",
    "# Calculate the correlation between Building_price_per_m2, Land_price_per_m2, and Building_and_land_price_per_m2\n",
    "correlation = filtered_data[['Building_price_per_m2', 'Land_price_per_m2', 'Building_and_land_price_per_m2']].corr()\n",
    "\n",
    "# Display the correlation matrix\n",
    "print('\\n\\n', correlation)"
   ]
  },
  {
   "cell_type": "code",
   "execution_count": 60,
   "metadata": {},
   "outputs": [
    {
     "data": {
      "text/plain": [
       "0   2016-12-03\n",
       "1   2016-02-04\n",
       "2   2017-03-04\n",
       "3   2017-03-04\n",
       "4   2016-06-04\n",
       "Name: Date, dtype: datetime64[ns]"
      ]
     },
     "execution_count": 60,
     "metadata": {},
     "output_type": "execute_result"
    }
   ],
   "source": [
    "# Convert the 'Date' column to datetime format\n",
    "data['Date'] = pd.to_datetime(data['Date'], format='%d/%m/%Y')\n",
    "\n",
    "data['Date'].head()"
   ]
  },
  {
   "cell_type": "markdown",
   "metadata": {},
   "source": [
    "to check if the yearbuilt floating numbers, aside from the nan records, are all actual integers (so they're floating with .0 decimal):"
   ]
  },
  {
   "cell_type": "code",
   "execution_count": 61,
   "metadata": {},
   "outputs": [
    {
     "name": "stdout",
     "output_type": "stream",
     "text": [
      "All 'YearBuilt' values are integers with .0 floating point: True\n"
     ]
    }
   ],
   "source": [
    "all_integers = data['YearBuilt'].dropna().apply(lambda x: x.is_integer()).all()\n",
    "\n",
    "\n",
    "print(f\"All 'YearBuilt' values are integers with .0 floating point: {all_integers}\")\n"
   ]
  },
  {
   "cell_type": "code",
   "execution_count": 62,
   "metadata": {},
   "outputs": [
    {
     "data": {
      "text/plain": [
       "0    <NA>\n",
       "1    1900\n",
       "2    1900\n",
       "3    <NA>\n",
       "4    2014\n",
       "Name: YearBuilt, dtype: Int64"
      ]
     },
     "execution_count": 62,
     "metadata": {},
     "output_type": "execute_result"
    }
   ],
   "source": [
    "data['YearBuilt'] = data['YearBuilt'].astype('Int64')\n",
    "\n",
    "data['YearBuilt'].head()"
   ]
  },
  {
   "cell_type": "markdown",
   "metadata": {},
   "source": [
    "to check that also for property count, we are not converting values that might have a decimal part:"
   ]
  },
  {
   "cell_type": "code",
   "execution_count": 63,
   "metadata": {},
   "outputs": [
    {
     "name": "stdout",
     "output_type": "stream",
     "text": [
      "All 'Propertycount' values are integers with .0 floating point: True\n"
     ]
    }
   ],
   "source": [
    "all_integers_property_count = data['Propertycount'].apply(lambda x: x.is_integer()).all()\n",
    "\n",
    "print(f\"All 'Propertycount' values are integers with .0 floating point: {all_integers_property_count}\")"
   ]
  },
  {
   "cell_type": "code",
   "execution_count": 64,
   "metadata": {},
   "outputs": [
    {
     "data": {
      "text/plain": [
       "0    4019\n",
       "1    4019\n",
       "2    4019\n",
       "3    4019\n",
       "4    4019\n",
       "Name: Propertycount, dtype: Int64"
      ]
     },
     "execution_count": 64,
     "metadata": {},
     "output_type": "execute_result"
    }
   ],
   "source": [
    "data['Propertycount'] = data['Propertycount'].astype('Int64')\n",
    "\n",
    "data['Propertycount'].head()\n"
   ]
  },
  {
   "cell_type": "markdown",
   "metadata": {},
   "source": [
    "(i still have to understand wtf is propertycount...)\n",
    "\n",
    "next: the dummy vars for the regions :)"
   ]
  },
  {
   "cell_type": "code",
   "execution_count": 65,
   "metadata": {},
   "outputs": [
    {
     "data": {
      "text/html": [
       "<div>\n",
       "<style scoped>\n",
       "    .dataframe tbody tr th:only-of-type {\n",
       "        vertical-align: middle;\n",
       "    }\n",
       "\n",
       "    .dataframe tbody tr th {\n",
       "        vertical-align: top;\n",
       "    }\n",
       "\n",
       "    .dataframe thead th {\n",
       "        text-align: right;\n",
       "    }\n",
       "</style>\n",
       "<table border=\"1\" class=\"dataframe\">\n",
       "  <thead>\n",
       "    <tr style=\"text-align: right;\">\n",
       "      <th></th>\n",
       "      <th>Eastern Victoria</th>\n",
       "      <th>Northern Metropolitan</th>\n",
       "      <th>Northern Victoria</th>\n",
       "      <th>South-Eastern Metropolitan</th>\n",
       "      <th>Southern Metropolitan</th>\n",
       "      <th>Western Metropolitan</th>\n",
       "      <th>Western Victoria</th>\n",
       "    </tr>\n",
       "  </thead>\n",
       "  <tbody>\n",
       "    <tr>\n",
       "      <th>0</th>\n",
       "      <td>False</td>\n",
       "      <td>True</td>\n",
       "      <td>False</td>\n",
       "      <td>False</td>\n",
       "      <td>False</td>\n",
       "      <td>False</td>\n",
       "      <td>False</td>\n",
       "    </tr>\n",
       "    <tr>\n",
       "      <th>1</th>\n",
       "      <td>False</td>\n",
       "      <td>True</td>\n",
       "      <td>False</td>\n",
       "      <td>False</td>\n",
       "      <td>False</td>\n",
       "      <td>False</td>\n",
       "      <td>False</td>\n",
       "    </tr>\n",
       "    <tr>\n",
       "      <th>2</th>\n",
       "      <td>False</td>\n",
       "      <td>True</td>\n",
       "      <td>False</td>\n",
       "      <td>False</td>\n",
       "      <td>False</td>\n",
       "      <td>False</td>\n",
       "      <td>False</td>\n",
       "    </tr>\n",
       "    <tr>\n",
       "      <th>3</th>\n",
       "      <td>False</td>\n",
       "      <td>True</td>\n",
       "      <td>False</td>\n",
       "      <td>False</td>\n",
       "      <td>False</td>\n",
       "      <td>False</td>\n",
       "      <td>False</td>\n",
       "    </tr>\n",
       "    <tr>\n",
       "      <th>4</th>\n",
       "      <td>False</td>\n",
       "      <td>True</td>\n",
       "      <td>False</td>\n",
       "      <td>False</td>\n",
       "      <td>False</td>\n",
       "      <td>False</td>\n",
       "      <td>False</td>\n",
       "    </tr>\n",
       "  </tbody>\n",
       "</table>\n",
       "</div>"
      ],
      "text/plain": [
       "   Eastern Victoria  Northern Metropolitan  Northern Victoria  \\\n",
       "0             False                   True              False   \n",
       "1             False                   True              False   \n",
       "2             False                   True              False   \n",
       "3             False                   True              False   \n",
       "4             False                   True              False   \n",
       "\n",
       "   South-Eastern Metropolitan  Southern Metropolitan  Western Metropolitan  \\\n",
       "0                       False                  False                 False   \n",
       "1                       False                  False                 False   \n",
       "2                       False                  False                 False   \n",
       "3                       False                  False                 False   \n",
       "4                       False                  False                 False   \n",
       "\n",
       "   Western Victoria  \n",
       "0             False  \n",
       "1             False  \n",
       "2             False  \n",
       "3             False  \n",
       "4             False  "
      ]
     },
     "execution_count": 65,
     "metadata": {},
     "output_type": "execute_result"
    }
   ],
   "source": [
    "# Create dummy variables for the 'Regionname' column\n",
    "region_dummies = pd.get_dummies(data['Regionname'], drop_first=True)\n",
    "\n",
    "# Display the first few rows of the dummy variables\n",
    "region_dummies.head()"
   ]
  },
  {
   "cell_type": "code",
   "execution_count": 66,
   "metadata": {},
   "outputs": [
    {
     "data": {
      "text/html": [
       "<div>\n",
       "<style scoped>\n",
       "    .dataframe tbody tr th:only-of-type {\n",
       "        vertical-align: middle;\n",
       "    }\n",
       "\n",
       "    .dataframe tbody tr th {\n",
       "        vertical-align: top;\n",
       "    }\n",
       "\n",
       "    .dataframe thead th {\n",
       "        text-align: right;\n",
       "    }\n",
       "</style>\n",
       "<table border=\"1\" class=\"dataframe\">\n",
       "  <thead>\n",
       "    <tr style=\"text-align: right;\">\n",
       "      <th></th>\n",
       "      <th>is_Eastern_Victoria</th>\n",
       "      <th>is_Northern_Metropolitan</th>\n",
       "      <th>is_Northern_Victoria</th>\n",
       "      <th>is_South_Eastern_Metropolitan</th>\n",
       "      <th>is_Southern_Metropolitan</th>\n",
       "      <th>is_Western_Metropolitan</th>\n",
       "      <th>is_Western_Victoria</th>\n",
       "    </tr>\n",
       "  </thead>\n",
       "  <tbody>\n",
       "    <tr>\n",
       "      <th>0</th>\n",
       "      <td>False</td>\n",
       "      <td>True</td>\n",
       "      <td>False</td>\n",
       "      <td>False</td>\n",
       "      <td>False</td>\n",
       "      <td>False</td>\n",
       "      <td>False</td>\n",
       "    </tr>\n",
       "    <tr>\n",
       "      <th>1</th>\n",
       "      <td>False</td>\n",
       "      <td>True</td>\n",
       "      <td>False</td>\n",
       "      <td>False</td>\n",
       "      <td>False</td>\n",
       "      <td>False</td>\n",
       "      <td>False</td>\n",
       "    </tr>\n",
       "    <tr>\n",
       "      <th>2</th>\n",
       "      <td>False</td>\n",
       "      <td>True</td>\n",
       "      <td>False</td>\n",
       "      <td>False</td>\n",
       "      <td>False</td>\n",
       "      <td>False</td>\n",
       "      <td>False</td>\n",
       "    </tr>\n",
       "    <tr>\n",
       "      <th>3</th>\n",
       "      <td>False</td>\n",
       "      <td>True</td>\n",
       "      <td>False</td>\n",
       "      <td>False</td>\n",
       "      <td>False</td>\n",
       "      <td>False</td>\n",
       "      <td>False</td>\n",
       "    </tr>\n",
       "    <tr>\n",
       "      <th>4</th>\n",
       "      <td>False</td>\n",
       "      <td>True</td>\n",
       "      <td>False</td>\n",
       "      <td>False</td>\n",
       "      <td>False</td>\n",
       "      <td>False</td>\n",
       "      <td>False</td>\n",
       "    </tr>\n",
       "  </tbody>\n",
       "</table>\n",
       "</div>"
      ],
      "text/plain": [
       "   is_Eastern_Victoria  is_Northern_Metropolitan  is_Northern_Victoria  \\\n",
       "0                False                      True                 False   \n",
       "1                False                      True                 False   \n",
       "2                False                      True                 False   \n",
       "3                False                      True                 False   \n",
       "4                False                      True                 False   \n",
       "\n",
       "   is_South_Eastern_Metropolitan  is_Southern_Metropolitan  \\\n",
       "0                          False                     False   \n",
       "1                          False                     False   \n",
       "2                          False                     False   \n",
       "3                          False                     False   \n",
       "4                          False                     False   \n",
       "\n",
       "   is_Western_Metropolitan  is_Western_Victoria  \n",
       "0                    False                False  \n",
       "1                    False                False  \n",
       "2                    False                False  \n",
       "3                    False                False  \n",
       "4                    False                False  "
      ]
     },
     "execution_count": 66,
     "metadata": {},
     "output_type": "execute_result"
    }
   ],
   "source": [
    "region_dummies = region_dummies.rename(columns={\n",
    "    'Eastern Victoria': 'is_Eastern_Victoria',\n",
    "    'Northern Metropolitan': 'is_Northern_Metropolitan',\n",
    "    'Northern Victoria': 'is_Northern_Victoria',\n",
    "    'South-Eastern Metropolitan': 'is_South_Eastern_Metropolitan',\n",
    "    'Southern Metropolitan': 'is_Southern_Metropolitan',\n",
    "    'Western Metropolitan': 'is_Western_Metropolitan',\n",
    "    'Western Victoria': 'is_Western_Victoria'\n",
    "})\n",
    "\n",
    "# Display the first few rows of the renamed dummy variables\n",
    "region_dummies.head()"
   ]
  },
  {
   "cell_type": "code",
   "execution_count": 67,
   "metadata": {},
   "outputs": [
    {
     "name": "stdout",
     "output_type": "stream",
     "text": [
      "<class 'pandas.core.frame.DataFrame'>\n",
      "RangeIndex: 13580 entries, 0 to 13579\n",
      "Data columns (total 30 columns):\n",
      " #   Column                         Non-Null Count  Dtype         \n",
      "---  ------                         --------------  -----         \n",
      " 0   Suburb                         13580 non-null  object        \n",
      " 1   Address                        13580 non-null  object        \n",
      " 2   Rooms                          13580 non-null  int64         \n",
      " 3   Type                           13580 non-null  object        \n",
      " 4   Price                          13580 non-null  float64       \n",
      " 5   Method                         13580 non-null  object        \n",
      " 6   SellerG                        13580 non-null  object        \n",
      " 7   Date                           13580 non-null  datetime64[ns]\n",
      " 8   Distance                       13580 non-null  float64       \n",
      " 9   Postcode                       13580 non-null  float64       \n",
      " 10  Bedroom2                       13580 non-null  float64       \n",
      " 11  Bathroom                       13580 non-null  float64       \n",
      " 12  Car                            13518 non-null  float64       \n",
      " 13  Landsize                       13580 non-null  float64       \n",
      " 14  BuildingArea                   7130 non-null   float64       \n",
      " 15  YearBuilt                      8205 non-null   Int64         \n",
      " 16  CouncilArea                    12211 non-null  object        \n",
      " 17  Lattitude                      13580 non-null  float64       \n",
      " 18  Longtitude                     13580 non-null  float64       \n",
      " 19  Regionname                     13580 non-null  object        \n",
      " 20  Propertycount                  13580 non-null  Int64         \n",
      " 21  Land_price_per_m2              11641 non-null  float64       \n",
      " 22  Building_price_per_m2          7113 non-null   float64       \n",
      " 23  is_Eastern_Victoria            13580 non-null  bool          \n",
      " 24  is_Northern_Metropolitan       13580 non-null  bool          \n",
      " 25  is_Northern_Victoria           13580 non-null  bool          \n",
      " 26  is_South_Eastern_Metropolitan  13580 non-null  bool          \n",
      " 27  is_Southern_Metropolitan       13580 non-null  bool          \n",
      " 28  is_Western_Metropolitan        13580 non-null  bool          \n",
      " 29  is_Western_Victoria            13580 non-null  bool          \n",
      "dtypes: Int64(2), bool(7), datetime64[ns](1), float64(12), int64(1), object(7)\n",
      "memory usage: 2.5+ MB\n"
     ]
    }
   ],
   "source": [
    "# Concatenate the region dummies with the original data dataframe\n",
    "data = pd.concat([data, region_dummies], axis=1)\n",
    "\n",
    "# Display the dataframe after the addition\n",
    "data_info = data.info()"
   ]
  }
 ],
 "metadata": {
  "kernelspec": {
   "display_name": "Python 3",
   "language": "python",
   "name": "python3"
  },
  "language_info": {
   "codemirror_mode": {
    "name": "ipython",
    "version": 3
   },
   "file_extension": ".py",
   "mimetype": "text/x-python",
   "name": "python",
   "nbconvert_exporter": "python",
   "pygments_lexer": "ipython3",
   "version": "3.11.2"
  }
 },
 "nbformat": 4,
 "nbformat_minor": 2
}
