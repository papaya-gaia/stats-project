{
 "cells": [
  {
   "cell_type": "markdown",
   "metadata": {},
   "source": [
    "# Model with NEW Official Data (Marta's upload) & Incorporating Dummies by Regionname below"
   ]
  },
  {
   "cell_type": "code",
   "execution_count": 3,
   "metadata": {},
   "outputs": [],
   "source": [
    "import numpy as np\n",
    "import pandas as pd\n",
    "import seaborn as sns\n",
    "from scipy.stats import norm, invgamma\n",
    "import matplotlib.pyplot as plt\n",
    "from sklearn.model_selection import train_test_split"
   ]
  },
  {
   "cell_type": "code",
   "execution_count": 4,
   "metadata": {},
   "outputs": [
    {
     "data": {
      "text/html": [
       "<div>\n",
       "<style scoped>\n",
       "    .dataframe tbody tr th:only-of-type {\n",
       "        vertical-align: middle;\n",
       "    }\n",
       "\n",
       "    .dataframe tbody tr th {\n",
       "        vertical-align: top;\n",
       "    }\n",
       "\n",
       "    .dataframe thead th {\n",
       "        text-align: right;\n",
       "    }\n",
       "</style>\n",
       "<table border=\"1\" class=\"dataframe\">\n",
       "  <thead>\n",
       "    <tr style=\"text-align: right;\">\n",
       "      <th></th>\n",
       "      <th>Suburb</th>\n",
       "      <th>Address</th>\n",
       "      <th>Rooms</th>\n",
       "      <th>Type</th>\n",
       "      <th>Price</th>\n",
       "      <th>Method</th>\n",
       "      <th>SellerG</th>\n",
       "      <th>Date</th>\n",
       "      <th>Distance</th>\n",
       "      <th>Postcode</th>\n",
       "      <th>...</th>\n",
       "      <th>Bathroom</th>\n",
       "      <th>Car</th>\n",
       "      <th>Landsize</th>\n",
       "      <th>BuildingArea</th>\n",
       "      <th>YearBuilt</th>\n",
       "      <th>Lattitude</th>\n",
       "      <th>Longtitude</th>\n",
       "      <th>Regionname</th>\n",
       "      <th>Propertycount</th>\n",
       "      <th>BuildingArea_missing</th>\n",
       "    </tr>\n",
       "  </thead>\n",
       "  <tbody>\n",
       "    <tr>\n",
       "      <th>0</th>\n",
       "      <td>Abbotsford</td>\n",
       "      <td>85 Turner St</td>\n",
       "      <td>2</td>\n",
       "      <td>h</td>\n",
       "      <td>1480000.0</td>\n",
       "      <td>S</td>\n",
       "      <td>Biggin</td>\n",
       "      <td>2016-12-03</td>\n",
       "      <td>2.5</td>\n",
       "      <td>3067</td>\n",
       "      <td>...</td>\n",
       "      <td>1</td>\n",
       "      <td>1</td>\n",
       "      <td>202.0</td>\n",
       "      <td>120.320408</td>\n",
       "      <td>1950</td>\n",
       "      <td>-37.79960</td>\n",
       "      <td>144.99840</td>\n",
       "      <td>Northern Metropolitan</td>\n",
       "      <td>4019</td>\n",
       "      <td>1</td>\n",
       "    </tr>\n",
       "    <tr>\n",
       "      <th>1</th>\n",
       "      <td>Abbotsford</td>\n",
       "      <td>25 Bloomburg St</td>\n",
       "      <td>2</td>\n",
       "      <td>h</td>\n",
       "      <td>1035000.0</td>\n",
       "      <td>S</td>\n",
       "      <td>Biggin</td>\n",
       "      <td>2016-02-04</td>\n",
       "      <td>2.5</td>\n",
       "      <td>3067</td>\n",
       "      <td>...</td>\n",
       "      <td>1</td>\n",
       "      <td>0</td>\n",
       "      <td>156.0</td>\n",
       "      <td>79.000000</td>\n",
       "      <td>1900</td>\n",
       "      <td>-37.80790</td>\n",
       "      <td>144.99340</td>\n",
       "      <td>Northern Metropolitan</td>\n",
       "      <td>4019</td>\n",
       "      <td>0</td>\n",
       "    </tr>\n",
       "    <tr>\n",
       "      <th>2</th>\n",
       "      <td>Abbotsford</td>\n",
       "      <td>5 Charles St</td>\n",
       "      <td>3</td>\n",
       "      <td>h</td>\n",
       "      <td>1465000.0</td>\n",
       "      <td>SP</td>\n",
       "      <td>Biggin</td>\n",
       "      <td>2017-03-04</td>\n",
       "      <td>2.5</td>\n",
       "      <td>3067</td>\n",
       "      <td>...</td>\n",
       "      <td>2</td>\n",
       "      <td>0</td>\n",
       "      <td>134.0</td>\n",
       "      <td>150.000000</td>\n",
       "      <td>1900</td>\n",
       "      <td>-37.80930</td>\n",
       "      <td>144.99440</td>\n",
       "      <td>Northern Metropolitan</td>\n",
       "      <td>4019</td>\n",
       "      <td>0</td>\n",
       "    </tr>\n",
       "    <tr>\n",
       "      <th>3</th>\n",
       "      <td>Abbotsford</td>\n",
       "      <td>40 Federation La</td>\n",
       "      <td>3</td>\n",
       "      <td>h</td>\n",
       "      <td>850000.0</td>\n",
       "      <td>PI</td>\n",
       "      <td>Biggin</td>\n",
       "      <td>2017-03-04</td>\n",
       "      <td>2.5</td>\n",
       "      <td>3067</td>\n",
       "      <td>...</td>\n",
       "      <td>2</td>\n",
       "      <td>1</td>\n",
       "      <td>94.0</td>\n",
       "      <td>97.551020</td>\n",
       "      <td>1960</td>\n",
       "      <td>-37.79690</td>\n",
       "      <td>144.99690</td>\n",
       "      <td>Northern Metropolitan</td>\n",
       "      <td>4019</td>\n",
       "      <td>1</td>\n",
       "    </tr>\n",
       "    <tr>\n",
       "      <th>4</th>\n",
       "      <td>Abbotsford</td>\n",
       "      <td>55a Park St</td>\n",
       "      <td>4</td>\n",
       "      <td>h</td>\n",
       "      <td>1600000.0</td>\n",
       "      <td>VB</td>\n",
       "      <td>Nelson</td>\n",
       "      <td>2016-06-04</td>\n",
       "      <td>2.5</td>\n",
       "      <td>3067</td>\n",
       "      <td>...</td>\n",
       "      <td>1</td>\n",
       "      <td>2</td>\n",
       "      <td>120.0</td>\n",
       "      <td>142.000000</td>\n",
       "      <td>2014</td>\n",
       "      <td>-37.80720</td>\n",
       "      <td>144.99410</td>\n",
       "      <td>Northern Metropolitan</td>\n",
       "      <td>4019</td>\n",
       "      <td>0</td>\n",
       "    </tr>\n",
       "    <tr>\n",
       "      <th>...</th>\n",
       "      <td>...</td>\n",
       "      <td>...</td>\n",
       "      <td>...</td>\n",
       "      <td>...</td>\n",
       "      <td>...</td>\n",
       "      <td>...</td>\n",
       "      <td>...</td>\n",
       "      <td>...</td>\n",
       "      <td>...</td>\n",
       "      <td>...</td>\n",
       "      <td>...</td>\n",
       "      <td>...</td>\n",
       "      <td>...</td>\n",
       "      <td>...</td>\n",
       "      <td>...</td>\n",
       "      <td>...</td>\n",
       "      <td>...</td>\n",
       "      <td>...</td>\n",
       "      <td>...</td>\n",
       "      <td>...</td>\n",
       "      <td>...</td>\n",
       "    </tr>\n",
       "    <tr>\n",
       "      <th>13143</th>\n",
       "      <td>Wheelers Hill</td>\n",
       "      <td>12 Strada Cr</td>\n",
       "      <td>4</td>\n",
       "      <td>h</td>\n",
       "      <td>1245000.0</td>\n",
       "      <td>S</td>\n",
       "      <td>Barry</td>\n",
       "      <td>2017-08-26</td>\n",
       "      <td>16.7</td>\n",
       "      <td>3150</td>\n",
       "      <td>...</td>\n",
       "      <td>2</td>\n",
       "      <td>2</td>\n",
       "      <td>652.0</td>\n",
       "      <td>212.029592</td>\n",
       "      <td>1981</td>\n",
       "      <td>-37.90562</td>\n",
       "      <td>145.16761</td>\n",
       "      <td>South-Eastern Metropolitan</td>\n",
       "      <td>7392</td>\n",
       "      <td>1</td>\n",
       "    </tr>\n",
       "    <tr>\n",
       "      <th>13144</th>\n",
       "      <td>Williamstown</td>\n",
       "      <td>77 Merrett Dr</td>\n",
       "      <td>3</td>\n",
       "      <td>h</td>\n",
       "      <td>1031000.0</td>\n",
       "      <td>SP</td>\n",
       "      <td>Williams</td>\n",
       "      <td>2017-08-26</td>\n",
       "      <td>6.8</td>\n",
       "      <td>3016</td>\n",
       "      <td>...</td>\n",
       "      <td>2</td>\n",
       "      <td>2</td>\n",
       "      <td>333.0</td>\n",
       "      <td>133.000000</td>\n",
       "      <td>1995</td>\n",
       "      <td>-37.85927</td>\n",
       "      <td>144.87904</td>\n",
       "      <td>Western Metropolitan</td>\n",
       "      <td>6380</td>\n",
       "      <td>0</td>\n",
       "    </tr>\n",
       "    <tr>\n",
       "      <th>13145</th>\n",
       "      <td>Williamstown</td>\n",
       "      <td>83 Power St</td>\n",
       "      <td>3</td>\n",
       "      <td>h</td>\n",
       "      <td>1170000.0</td>\n",
       "      <td>S</td>\n",
       "      <td>Raine</td>\n",
       "      <td>2017-08-26</td>\n",
       "      <td>6.8</td>\n",
       "      <td>3016</td>\n",
       "      <td>...</td>\n",
       "      <td>2</td>\n",
       "      <td>4</td>\n",
       "      <td>436.0</td>\n",
       "      <td>165.510204</td>\n",
       "      <td>1997</td>\n",
       "      <td>-37.85274</td>\n",
       "      <td>144.88738</td>\n",
       "      <td>Western Metropolitan</td>\n",
       "      <td>6380</td>\n",
       "      <td>1</td>\n",
       "    </tr>\n",
       "    <tr>\n",
       "      <th>13146</th>\n",
       "      <td>Williamstown</td>\n",
       "      <td>96 Verdon St</td>\n",
       "      <td>4</td>\n",
       "      <td>h</td>\n",
       "      <td>2500000.0</td>\n",
       "      <td>PI</td>\n",
       "      <td>Sweeney</td>\n",
       "      <td>2017-08-26</td>\n",
       "      <td>6.8</td>\n",
       "      <td>3016</td>\n",
       "      <td>...</td>\n",
       "      <td>1</td>\n",
       "      <td>5</td>\n",
       "      <td>866.0</td>\n",
       "      <td>157.000000</td>\n",
       "      <td>1920</td>\n",
       "      <td>-37.85908</td>\n",
       "      <td>144.89299</td>\n",
       "      <td>Western Metropolitan</td>\n",
       "      <td>6380</td>\n",
       "      <td>0</td>\n",
       "    </tr>\n",
       "    <tr>\n",
       "      <th>13147</th>\n",
       "      <td>Yarraville</td>\n",
       "      <td>6 Agnes St</td>\n",
       "      <td>4</td>\n",
       "      <td>h</td>\n",
       "      <td>1285000.0</td>\n",
       "      <td>SP</td>\n",
       "      <td>Village</td>\n",
       "      <td>2017-08-26</td>\n",
       "      <td>6.3</td>\n",
       "      <td>3013</td>\n",
       "      <td>...</td>\n",
       "      <td>1</td>\n",
       "      <td>1</td>\n",
       "      <td>362.0</td>\n",
       "      <td>112.000000</td>\n",
       "      <td>1920</td>\n",
       "      <td>-37.81188</td>\n",
       "      <td>144.88449</td>\n",
       "      <td>Western Metropolitan</td>\n",
       "      <td>6543</td>\n",
       "      <td>0</td>\n",
       "    </tr>\n",
       "  </tbody>\n",
       "</table>\n",
       "<p>13148 rows × 21 columns</p>\n",
       "</div>"
      ],
      "text/plain": [
       "              Suburb           Address  Rooms Type      Price Method  \\\n",
       "0         Abbotsford      85 Turner St      2    h  1480000.0      S   \n",
       "1         Abbotsford   25 Bloomburg St      2    h  1035000.0      S   \n",
       "2         Abbotsford      5 Charles St      3    h  1465000.0     SP   \n",
       "3         Abbotsford  40 Federation La      3    h   850000.0     PI   \n",
       "4         Abbotsford       55a Park St      4    h  1600000.0     VB   \n",
       "...              ...               ...    ...  ...        ...    ...   \n",
       "13143  Wheelers Hill      12 Strada Cr      4    h  1245000.0      S   \n",
       "13144   Williamstown     77 Merrett Dr      3    h  1031000.0     SP   \n",
       "13145   Williamstown       83 Power St      3    h  1170000.0      S   \n",
       "13146   Williamstown      96 Verdon St      4    h  2500000.0     PI   \n",
       "13147     Yarraville        6 Agnes St      4    h  1285000.0     SP   \n",
       "\n",
       "        SellerG        Date  Distance  Postcode  ...  Bathroom  Car  Landsize  \\\n",
       "0        Biggin  2016-12-03       2.5      3067  ...         1    1     202.0   \n",
       "1        Biggin  2016-02-04       2.5      3067  ...         1    0     156.0   \n",
       "2        Biggin  2017-03-04       2.5      3067  ...         2    0     134.0   \n",
       "3        Biggin  2017-03-04       2.5      3067  ...         2    1      94.0   \n",
       "4        Nelson  2016-06-04       2.5      3067  ...         1    2     120.0   \n",
       "...         ...         ...       ...       ...  ...       ...  ...       ...   \n",
       "13143     Barry  2017-08-26      16.7      3150  ...         2    2     652.0   \n",
       "13144  Williams  2017-08-26       6.8      3016  ...         2    2     333.0   \n",
       "13145     Raine  2017-08-26       6.8      3016  ...         2    4     436.0   \n",
       "13146   Sweeney  2017-08-26       6.8      3016  ...         1    5     866.0   \n",
       "13147   Village  2017-08-26       6.3      3013  ...         1    1     362.0   \n",
       "\n",
       "       BuildingArea  YearBuilt  Lattitude  Longtitude  \\\n",
       "0        120.320408       1950  -37.79960   144.99840   \n",
       "1         79.000000       1900  -37.80790   144.99340   \n",
       "2        150.000000       1900  -37.80930   144.99440   \n",
       "3         97.551020       1960  -37.79690   144.99690   \n",
       "4        142.000000       2014  -37.80720   144.99410   \n",
       "...             ...        ...        ...         ...   \n",
       "13143    212.029592       1981  -37.90562   145.16761   \n",
       "13144    133.000000       1995  -37.85927   144.87904   \n",
       "13145    165.510204       1997  -37.85274   144.88738   \n",
       "13146    157.000000       1920  -37.85908   144.89299   \n",
       "13147    112.000000       1920  -37.81188   144.88449   \n",
       "\n",
       "                       Regionname Propertycount  BuildingArea_missing  \n",
       "0           Northern Metropolitan          4019                     1  \n",
       "1           Northern Metropolitan          4019                     0  \n",
       "2           Northern Metropolitan          4019                     0  \n",
       "3           Northern Metropolitan          4019                     1  \n",
       "4           Northern Metropolitan          4019                     0  \n",
       "...                           ...           ...                   ...  \n",
       "13143  South-Eastern Metropolitan          7392                     1  \n",
       "13144        Western Metropolitan          6380                     0  \n",
       "13145        Western Metropolitan          6380                     1  \n",
       "13146        Western Metropolitan          6380                     0  \n",
       "13147        Western Metropolitan          6543                     0  \n",
       "\n",
       "[13148 rows x 21 columns]"
      ]
     },
     "execution_count": 4,
     "metadata": {},
     "output_type": "execute_result"
    }
   ],
   "source": [
    "data = pd.read_csv('NEW_OFFICIAL_cleaned_data_without_outliers.csv')\n",
    "pd.DataFrame(data)"
   ]
  },
  {
   "cell_type": "code",
   "execution_count": 5,
   "metadata": {},
   "outputs": [],
   "source": [
    "#Defining variables and splitting the dataset\n",
    "#Features and target variable\n",
    "X = data[['Rooms','Bathroom','Distance','Landsize']].values\n",
    "y = np.log(data['Price'])\n",
    "\n",
    "#Split the data\n",
    "X_train, X_test, y_train, y_test = train_test_split(X,y, test_size=0.2,random_state=42)"
   ]
  },
  {
   "cell_type": "code",
   "execution_count": 6,
   "metadata": {},
   "outputs": [],
   "source": [
    "#Standardizing predictors\n",
    "from sklearn.preprocessing import StandardScaler\n",
    "scaler= StandardScaler()\n",
    "X_train_scaled = scaler.fit_transform(X_train)\n",
    "X_test_scaled = scaler.transform(X_test)"
   ]
  },
  {
   "cell_type": "code",
   "execution_count": 7,
   "metadata": {},
   "outputs": [
    {
     "name": "stdout",
     "output_type": "stream",
     "text": [
      "Shape of X_train (with intercept): (10518, 5)\n",
      "Shape of X_test (with intercept): (2630, 5)\n"
     ]
    }
   ],
   "source": [
    "#Adding intercept to column X\n",
    "X_train_scaled = np.c_[np.ones(X_train_scaled.shape[0]), X_train_scaled]\n",
    "X_test_scaled = np.c_[np.ones(X_test_scaled.shape[0]), X_test_scaled]\n",
    "\n",
    "print(\"Shape of X_train (with intercept):\", X_train_scaled.shape)\n",
    "print(\"Shape of X_test (with intercept):\", X_test_scaled.shape)"
   ]
  },
  {
   "cell_type": "code",
   "execution_count": 8,
   "metadata": {},
   "outputs": [],
   "source": [
    "#Predictive model\n",
    "#Likelihood Function\n",
    "def log_likelihood(y,X,beta,sigma2):\n",
    "    n=len(y)\n",
    "    mu=np.dot(X,beta) #Predicted mean\n",
    "    residuals=y-mu\n",
    "    return -0.5*n*np.log(2*np.pi*sigma2)-np.sum(residuals**2)/(2*sigma2)\n",
    "\n",
    "#Priors\n",
    "from scipy.stats import norm, invgamma\n",
    "\n",
    "#Normal Prior for coefficients\n",
    "def log_prior_beta(beta):\n",
    "    return np.sum(norm.logpdf(beta,loc=0,scale=10)) #Mean=0, Var=10^2\n",
    "\n",
    "#Inverse-Gamma prior for the variance\n",
    "def log_prior_sigma2(sigma2):\n",
    "    return invgamma.logpdf(sigma2,a=2,scale=1)\n",
    "\n",
    "#Posterior\n",
    "def log_posterior(y, X, beta, sigma2):\n",
    "    return log_likelihood(y, X, beta, sigma2)+log_prior_beta(beta)+log_prior_sigma2(sigma2)"
   ]
  },
  {
   "cell_type": "code",
   "execution_count": 9,
   "metadata": {},
   "outputs": [],
   "source": [
    "#MCMC Algorithm\n",
    "def metropolis_hastings(y,X, iterations=1000):\n",
    "    n_params = X.shape[1]\n",
    "    beta_samples = []\n",
    "    sigma2_samples = []\n",
    "\n",
    "    #Initialize parameters\n",
    "    beta = np.zeros(n_params)\n",
    "    sigma2 = 1\n",
    "\n",
    "    for sample in range(iterations):\n",
    "        #Propose a new beta\n",
    "        beta_proposal = beta + np.random.normal(0,0.1,size=n_params)\n",
    "\n",
    "        #Propose a new sigma2\n",
    "        sigma2_proposal = sigma2 + np.random.normal(0,0.1)\n",
    "        sigma2_proposal = abs(sigma2_proposal) #variance > 0\n",
    "\n",
    "        #Calculate current and proposed posterior\n",
    "        current_posterior = log_posterior(y, X, beta, sigma2)\n",
    "        proposed_posterior = log_posterior(y,X, beta_proposal,sigma2_proposal)\n",
    "\n",
    "        #Accept/reject step\n",
    "        accept_ratio = np.exp(proposed_posterior-current_posterior)\n",
    "        if np.random.rand() < accept_ratio:\n",
    "            beta = beta_proposal\n",
    "            sigma2 = sigma2_proposal\n",
    "\n",
    "        #Store samples\n",
    "        beta_samples.append(beta)\n",
    "        sigma2_samples.append(sigma2)\n",
    "\n",
    "    return np.array(beta_samples), np.array(sigma2_samples)"
   ]
  },
  {
   "cell_type": "code",
   "execution_count": 10,
   "metadata": {},
   "outputs": [
    {
     "name": "stderr",
     "output_type": "stream",
     "text": [
      "/var/folders/b0/3lm1b6yx0z52q8tv2nvq6qc40000gn/T/ipykernel_98999/2704323511.py:24: RuntimeWarning: overflow encountered in exp\n",
      "  accept_ratio = np.exp(proposed_posterior-current_posterior)\n"
     ]
    },
    {
     "name": "stdout",
     "output_type": "stream",
     "text": [
      "Posterior Mean of coefficients: [12.9278448   0.24489671  0.11137656 -0.16046907  0.12293905]\n",
      "Posterior Mean of Variance: 1.215163682651189\n"
     ]
    }
   ],
   "source": [
    "#Running the model\n",
    "beta_samples, sigma2_samples = metropolis_hastings(y_train,X_train_scaled,iterations=5000)\n",
    "\n",
    "#Compute posterior means\n",
    "beta_mean = np.mean(beta_samples, axis=0)\n",
    "sigma2_mean = np.mean(sigma2_samples)\n",
    "\n",
    "print(\"Posterior Mean of coefficients:\",beta_mean)\n",
    "print(\"Posterior Mean of Variance:\",sigma2_mean)"
   ]
  },
  {
   "cell_type": "code",
   "execution_count": 11,
   "metadata": {},
   "outputs": [
    {
     "name": "stdout",
     "output_type": "stream",
     "text": [
      "Number of NaNs in y_test: 0\n",
      "Number of NaNs in X_test: 0\n",
      "Number of NaNs in y_train: 0\n",
      "Number of NaNs in X_train: 0\n"
     ]
    }
   ],
   "source": [
    "#Checking for NaNs\n",
    "print(\"Number of NaNs in y_test:\", np.isnan(y_test).sum())\n",
    "print(\"Number of NaNs in X_test:\", np.isnan(X_test).sum())\n",
    "print(\"Number of NaNs in y_train:\", np.isnan(y_train).sum())\n",
    "print(\"Number of NaNs in X_train:\", np.isnan(X_train).sum())"
   ]
  },
  {
   "cell_type": "code",
   "execution_count": 12,
   "metadata": {},
   "outputs": [
    {
     "name": "stdout",
     "output_type": "stream",
     "text": [
      "X_test_scaled shape: (2630, 5)\n",
      "beta_mean shape: (5,)\n",
      "Shape of X_train: (10518, 5)\n"
     ]
    }
   ],
   "source": [
    "#Checking dimensions\n",
    "print(\"X_test_scaled shape:\", X_test_scaled.shape)\n",
    "print(\"beta_mean shape:\", beta_mean.shape)\n",
    "print(\"Shape of X_train:\", X_train_scaled.shape)"
   ]
  },
  {
   "cell_type": "code",
   "execution_count": 13,
   "metadata": {},
   "outputs": [
    {
     "name": "stdout",
     "output_type": "stream",
     "text": [
      "Mean Absolute Error: 633297.7339509341\n",
      "Mean Squared Error: 661939519582.8221\n"
     ]
    }
   ],
   "source": [
    "#Predicting price using the mean of posterior samples\n",
    "y_pred_log = np.dot(X_test_scaled,beta_mean)\n",
    "y_pred_price = np.exp(y_pred_log)\n",
    "\n",
    "#Evaluate performance\n",
    "from sklearn.metrics import mean_absolute_error, mean_squared_error\n",
    "\n",
    "mae = mean_absolute_error(np.exp(y_test), y_pred_price)\n",
    "mse = mean_squared_error(np.exp(y_test),y_pred_price)\n",
    "\n",
    "print(f\"Mean Absolute Error: {mae}\")\n",
    "print(f\"Mean Squared Error: {mse}\")"
   ]
  },
  {
   "cell_type": "code",
   "execution_count": 14,
   "metadata": {},
   "outputs": [
    {
     "data": {
      "image/png": "[encoded data removed]",
      "text/plain": [
       "<Figure size 640x480 with 1 Axes>"
      ]
     },
     "metadata": {},
     "output_type": "display_data"
    }
   ],
   "source": [
    "#Scatter plot of Predicted vs. Actual Values\n",
    "plt.scatter(np.exp(y_test),y_pred_price,alpha=0.7)\n",
    "plt.plot([min(np.exp(y_test)),max(np.exp(y_test))],[min(np.exp(y_test)),max(np.exp(y_test))],color='red',linestyle='--',label='Perfect Prediction')\n",
    "plt.title('Predicted vs Actual Prices')\n",
    "plt.xlabel('Actual Price')\n",
    "plt.ylabel('Predicted Price')\n",
    "plt.legend()\n",
    "plt.grid()\n",
    "plt.show()"
   ]
  },
  {
   "cell_type": "markdown",
   "metadata": {},
   "source": [
    "# Model with Regionname Dummies"
   ]
  },
  {
   "cell_type": "markdown",
   "metadata": {},
   "source": [
    "### Creating dummies for each region (except 1 ofc)"
   ]
  },
  {
   "cell_type": "code",
   "execution_count": 15,
   "metadata": {},
   "outputs": [
    {
     "name": "stdout",
     "output_type": "stream",
     "text": [
      "['Northern Metropolitan' 'Western Metropolitan' 'Southern Metropolitan'\n",
      " 'Eastern Metropolitan' 'South-Eastern Metropolitan' 'Eastern Victoria'\n",
      " 'Northern Victoria' 'Western Victoria']\n"
     ]
    }
   ],
   "source": [
    "#Checking how many unique region names there are\n",
    "print(data['Regionname'].unique())"
   ]
  },
  {
   "cell_type": "code",
   "execution_count": 16,
   "metadata": {},
   "outputs": [
    {
     "name": "stdout",
     "output_type": "stream",
     "text": [
      "<class 'pandas.core.frame.DataFrame'>\n",
      "RangeIndex: 13148 entries, 0 to 13147\n",
      "Data columns (total 27 columns):\n",
      " #   Column                                 Non-Null Count  Dtype  \n",
      "---  ------                                 --------------  -----  \n",
      " 0   Suburb                                 13148 non-null  object \n",
      " 1   Address                                13148 non-null  object \n",
      " 2   Rooms                                  13148 non-null  int64  \n",
      " 3   Type                                   13148 non-null  object \n",
      " 4   Price                                  13148 non-null  float64\n",
      " 5   Method                                 13148 non-null  object \n",
      " 6   SellerG                                13148 non-null  object \n",
      " 7   Date                                   13148 non-null  object \n",
      " 8   Distance                               13148 non-null  float64\n",
      " 9   Postcode                               13148 non-null  int64  \n",
      " 10  Bedroom2                               13148 non-null  int64  \n",
      " 11  Bathroom                               13148 non-null  int64  \n",
      " 12  Car                                    13148 non-null  int64  \n",
      " 13  Landsize                               13148 non-null  float64\n",
      " 14  BuildingArea                           13148 non-null  float64\n",
      " 15  YearBuilt                              13148 non-null  int64  \n",
      " 16  Lattitude                              13148 non-null  float64\n",
      " 17  Longtitude                             13148 non-null  float64\n",
      " 18  Propertycount                          13148 non-null  int64  \n",
      " 19  BuildingArea_missing                   13148 non-null  int64  \n",
      " 20  Regionname_Eastern Victoria            13148 non-null  bool   \n",
      " 21  Regionname_Northern Metropolitan       13148 non-null  bool   \n",
      " 22  Regionname_Northern Victoria           13148 non-null  bool   \n",
      " 23  Regionname_South-Eastern Metropolitan  13148 non-null  bool   \n",
      " 24  Regionname_Southern Metropolitan       13148 non-null  bool   \n",
      " 25  Regionname_Western Metropolitan        13148 non-null  bool   \n",
      " 26  Regionname_Western Victoria            13148 non-null  bool   \n",
      "dtypes: bool(7), float64(6), int64(8), object(6)\n",
      "memory usage: 2.1+ MB\n",
      "None\n"
     ]
    }
   ],
   "source": [
    "#Creating dummies for each Region\n",
    "data_encoded = pd.get_dummies(data, columns=['Regionname'],drop_first=True)\n",
    "print(data_encoded.info())"
   ]
  },
  {
   "cell_type": "markdown",
   "metadata": {},
   "source": [
    "Eastern Metropolitan is the left out dummy."
   ]
  },
  {
   "cell_type": "code",
   "execution_count": 17,
   "metadata": {},
   "outputs": [],
   "source": [
    "#Defining variables and splitting the dataset\n",
    "#Features and target variable\n",
    "X = data_encoded[['Rooms','Bathroom','Distance','Landsize','Regionname_Eastern Victoria',\n",
    "          'Regionname_Northern Metropolitan','Regionname_Northern Victoria',\n",
    "          'Regionname_South-Eastern Metropolitan','Regionname_Southern Metropolitan',\n",
    "          'Regionname_Western Metropolitan','Regionname_Western Victoria']].values\n",
    "y = np.log(data_encoded['Price'])\n",
    "\n",
    "#Split the data\n",
    "X_train, X_test, y_train, y_test = train_test_split(X,y, test_size=0.2,random_state=42)"
   ]
  },
  {
   "cell_type": "code",
   "execution_count": 18,
   "metadata": {},
   "outputs": [
    {
     "name": "stdout",
     "output_type": "stream",
     "text": [
      "Shape of X: (13148, 11)\n",
      "First row of X: [2 1 2.5 202.0 False True False False False False False]\n"
     ]
    }
   ],
   "source": [
    "#Checking X\n",
    "print(\"Shape of X:\", X.shape)\n",
    "print(\"First row of X:\", X[0])"
   ]
  },
  {
   "cell_type": "code",
   "execution_count": 19,
   "metadata": {},
   "outputs": [],
   "source": [
    "#Fixing data type\n",
    "X_test = X_test.astype(float)\n",
    "X_train = X_train.astype(float)"
   ]
  },
  {
   "cell_type": "code",
   "execution_count": 20,
   "metadata": {},
   "outputs": [],
   "source": [
    "#Standardizing predictors\n",
    "from sklearn.preprocessing import StandardScaler\n",
    "scaler= StandardScaler()\n",
    "X_train_scaled = scaler.fit_transform(X_train)\n",
    "X_test_scaled = scaler.transform(X_test)"
   ]
  },
  {
   "cell_type": "code",
   "execution_count": 21,
   "metadata": {},
   "outputs": [
    {
     "name": "stdout",
     "output_type": "stream",
     "text": [
      "Shape of X_train (with intercept): (10518, 12)\n",
      "Shape of X_test (with intercept): (2630, 12)\n"
     ]
    }
   ],
   "source": [
    "#Adding intercept to column X\n",
    "X_train_scaled = np.c_[np.ones(X_train_scaled.shape[0]), X_train_scaled]\n",
    "X_test_scaled = np.c_[np.ones(X_test_scaled.shape[0]), X_test_scaled]\n",
    "\n",
    "print(\"Shape of X_train (with intercept):\", X_train_scaled.shape)\n",
    "print(\"Shape of X_test (with intercept):\", X_test_scaled.shape)"
   ]
  },
  {
   "cell_type": "code",
   "execution_count": 22,
   "metadata": {},
   "outputs": [],
   "source": [
    "#Predictive model\n",
    "#Likelihood Function\n",
    "def log_likelihood(y,X,beta,sigma2):\n",
    "    n=len(y)\n",
    "    mu=np.dot(X,beta) #Predicted mean\n",
    "    residuals=y-mu\n",
    "    return -0.5*n*np.log(2*np.pi*sigma2)-np.sum(residuals**2)/(2*sigma2)\n",
    "\n",
    "#Priors\n",
    "from scipy.stats import norm, invgamma\n",
    "\n",
    "#Normal Prior for coefficients\n",
    "def log_prior_beta(beta):\n",
    "    return np.sum(norm.logpdf(beta,loc=0,scale=10)) #Mean=0, Var=10^2\n",
    "\n",
    "#Inverse-Gamma prior for the variance\n",
    "def log_prior_sigma2(sigma2):\n",
    "    return invgamma.logpdf(sigma2,a=2,scale=1)\n",
    "\n",
    "#Posterior\n",
    "def log_posterior(y, X, beta, sigma2):\n",
    "    return log_likelihood(y, X, beta, sigma2)+log_prior_beta(beta)+log_prior_sigma2(sigma2)"
   ]
  },
  {
   "cell_type": "code",
   "execution_count": 23,
   "metadata": {},
   "outputs": [],
   "source": [
    "#MCMC Algorithm\n",
    "def metropolis_hastings(y,X, iterations=1000):\n",
    "    n_params = X.shape[1]\n",
    "    beta_samples = []\n",
    "    sigma2_samples = []\n",
    "\n",
    "    #Initialize parameters\n",
    "    beta = np.zeros(n_params)\n",
    "    sigma2 = 1\n",
    "\n",
    "    for sample in range(iterations):\n",
    "        #Propose a new beta\n",
    "        beta_proposal = beta + np.random.normal(0,0.1,size=n_params)\n",
    "\n",
    "        #Propose a new sigma2\n",
    "        sigma2_proposal = sigma2 + np.random.normal(0,0.1)\n",
    "        sigma2_proposal = abs(sigma2_proposal) #variance > 0\n",
    "\n",
    "        #Calculate current and proposed posterior\n",
    "        current_posterior = log_posterior(y, X, beta, sigma2)\n",
    "        proposed_posterior = log_posterior(y,X, beta_proposal,sigma2_proposal)\n",
    "\n",
    "        #Accept/reject step\n",
    "        accept_ratio = np.exp(proposed_posterior-current_posterior)\n",
    "        if np.random.rand() < accept_ratio:\n",
    "            beta = beta_proposal\n",
    "            sigma2 = sigma2_proposal\n",
    "\n",
    "        #Store samples\n",
    "        beta_samples.append(beta)\n",
    "        sigma2_samples.append(sigma2)\n",
    "\n",
    "    return np.array(beta_samples), np.array(sigma2_samples)"
   ]
  },
  {
   "cell_type": "code",
   "execution_count": 24,
   "metadata": {},
   "outputs": [
    {
     "name": "stderr",
     "output_type": "stream",
     "text": [
      "/var/folders/b0/3lm1b6yx0z52q8tv2nvq6qc40000gn/T/ipykernel_98999/2704323511.py:24: RuntimeWarning: overflow encountered in exp\n",
      "  accept_ratio = np.exp(proposed_posterior-current_posterior)\n"
     ]
    },
    {
     "name": "stdout",
     "output_type": "stream",
     "text": [
      "Posterior Mean of coefficients: [ 1.29652526e+01  2.91113167e-01  2.03980551e-01 -3.19217359e-01\n",
      "  7.33563621e-02  1.25704228e-02 -1.50276912e-01  6.47551922e-02\n",
      "  1.03119750e-01 -5.39910103e-02 -1.96733848e-01  1.76944560e-02]\n",
      "Posterior Mean of Variance: 1.222552675539515\n"
     ]
    }
   ],
   "source": [
    "#Running the model\n",
    "beta_samples, sigma2_samples = metropolis_hastings(y_train,X_train_scaled,iterations=5000)\n",
    "\n",
    "#Compute posterior means\n",
    "beta_mean = np.mean(beta_samples, axis=0)\n",
    "sigma2_mean = np.mean(sigma2_samples)\n",
    "\n",
    "print(\"Posterior Mean of coefficients:\",beta_mean)\n",
    "print(\"Posterior Mean of Variance:\",sigma2_mean)"
   ]
  },
  {
   "cell_type": "code",
   "execution_count": 25,
   "metadata": {},
   "outputs": [
    {
     "name": "stdout",
     "output_type": "stream",
     "text": [
      "Number of NaNs in y_test: 0\n",
      "Number of NaNs in X_test: 0\n",
      "Number of NaNs in y_train: 0\n",
      "Number of NaNs in X_train: 0\n"
     ]
    }
   ],
   "source": [
    "#Checking for NaNs\n",
    "print(\"Number of NaNs in y_test:\", np.isnan(y_test).sum())\n",
    "print(\"Number of NaNs in X_test:\", np.isnan(X_test).sum())\n",
    "print(\"Number of NaNs in y_train:\", np.isnan(y_train).sum())\n",
    "print(\"Number of NaNs in X_train:\", np.isnan(X_train).sum())"
   ]
  },
  {
   "cell_type": "code",
   "execution_count": 26,
   "metadata": {},
   "outputs": [
    {
     "name": "stdout",
     "output_type": "stream",
     "text": [
      "y_test dtype: float64\n",
      "X_test dtype: float64\n",
      "y_train dtype: float64\n",
      "X_train dtype: float64\n"
     ]
    }
   ],
   "source": [
    "print(\"y_test dtype:\", y_test.dtype)\n",
    "print(\"X_test dtype:\", X_test.dtype)\n",
    "print(\"y_train dtype:\", y_train.dtype)\n",
    "print(\"X_train dtype:\", X_train.dtype)"
   ]
  },
  {
   "cell_type": "code",
   "execution_count": 27,
   "metadata": {},
   "outputs": [
    {
     "name": "stdout",
     "output_type": "stream",
     "text": [
      "X_test_scaled shape: (2630, 12)\n",
      "beta_mean shape: (12,)\n",
      "Shape of X_train: (10518, 12)\n"
     ]
    }
   ],
   "source": [
    "#Checking dimensions\n",
    "print(\"X_test_scaled shape:\", X_test_scaled.shape)\n",
    "print(\"beta_mean shape:\", beta_mean.shape)\n",
    "print(\"Shape of X_train:\", X_train_scaled.shape)"
   ]
  },
  {
   "cell_type": "code",
   "execution_count": 28,
   "metadata": {},
   "outputs": [
    {
     "name": "stdout",
     "output_type": "stream",
     "text": [
      "Mean Absolute Error: 602808.6352653924\n",
      "Mean Squared Error: 661359116367.3972\n"
     ]
    }
   ],
   "source": [
    "#Predicting price using the mean of posterior samples\n",
    "y_pred_log = np.dot(X_test_scaled,beta_mean)\n",
    "y_pred_price = np.exp(y_pred_log)\n",
    "\n",
    "#Evaluate performance\n",
    "from sklearn.metrics import mean_absolute_error, mean_squared_error\n",
    "\n",
    "mae = mean_absolute_error(np.exp(y_test), y_pred_price)\n",
    "mse = mean_squared_error(np.exp(y_test),y_pred_price)\n",
    "\n",
    "print(f\"Mean Absolute Error: {mae}\")\n",
    "print(f\"Mean Squared Error: {mse}\")"
   ]
  },
  {
   "cell_type": "code",
   "execution_count": 29,
   "metadata": {},
   "outputs": [
    {
     "data": {
      "image/png": "[encoded data removed]",
      "text/plain": [
       "<Figure size 640x480 with 1 Axes>"
      ]
     },
     "metadata": {},
     "output_type": "display_data"
    }
   ],
   "source": [
    "#Scatter plot of Predicted vs. Actual Values\n",
    "plt.scatter(np.exp(y_test),y_pred_price,alpha=0.7)\n",
    "plt.plot([min(np.exp(y_test)),max(np.exp(y_test))],[min(np.exp(y_test)),max(np.exp(y_test))],color='red',linestyle='--',label='Perfect Prediction')\n",
    "plt.title('Predicted vs Actual Prices')\n",
    "plt.xlabel('Actual Price')\n",
    "plt.ylabel('Predicted Price')\n",
    "plt.legend()\n",
    "plt.grid()\n",
    "plt.show()"
   ]
  }
 ],
 "metadata": {
  "kernelspec": {
   "display_name": "base",
   "language": "python",
   "name": "python3"
  },
  "language_info": {
   "codemirror_mode": {
    "name": "ipython",
    "version": 3
   },
   "file_extension": ".py",
   "mimetype": "text/x-python",
   "name": "python",
   "nbconvert_exporter": "python",
   "pygments_lexer": "ipython3",
   "version": "3.12.2"
  }
 },
 "nbformat": 4,
 "nbformat_minor": 2
}
